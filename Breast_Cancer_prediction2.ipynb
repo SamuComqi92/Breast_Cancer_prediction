{
 "cells": [
  {
   "cell_type": "markdown",
   "id": "322e378a-e9a1-41b9-8ddc-1a149ad99139",
   "metadata": {},
   "source": [
    "# **BREAST CANCER SURVIVAL STATUS PREDICTION NOTEBOOK**\n",
    "\n",
    "## **Summary**\n",
    "\n",
    "1. Importing libraries and data\n",
    "2. Data cleaning and preparation\n",
    "3. Data transformation function\n",
    "4. Training: first models\n",
    "5. Training: hyperparameters tuning\n",
    "6. Model finalization\n",
    "7. Test on unseen data\n",
    "\n",
    ".\n",
    "\n",
    "."
   ]
  },
  {
   "cell_type": "markdown",
   "id": "b4ceab19-354c-4d4e-ad13-4507ba9f27ae",
   "metadata": {},
   "source": [
    "## **1. Importing libraries and data**"
   ]
  },
  {
   "cell_type": "code",
   "execution_count": 1,
   "id": "e730e13e-ec23-4c57-b0f5-4d3964710c15",
   "metadata": {},
   "outputs": [],
   "source": [
    "#Importing libraries \n",
    "import numpy as np\n",
    "import pandas as pd\n",
    "import matplotlib.pyplot as plt\n",
    "import seaborn as sn\n",
    "from scipy.stats import skew\n",
    "from sklearn.metrics import confusion_matrix, precision_score, recall_score, f1_score, roc_auc_score\n",
    "from sklearn.feature_selection import f_classif\n",
    "from sklearn.preprocessing import MinMaxScaler\n",
    "from sklearn.model_selection import train_test_split, cross_val_score, GridSearchCV, RandomizedSearchCV, StratifiedKFold, KFold\n",
    "from sklearn.linear_model import LogisticRegression\n",
    "from sklearn.tree import DecisionTreeClassifier\n",
    "from sklearn.ensemble import RandomForestClassifier\n",
    "import xgboost as xgb\n",
    "from sklearn import svm\n",
    "\n",
    "import warnings\n",
    "warnings.filterwarnings('ignore')"
   ]
  },
  {
   "cell_type": "code",
   "execution_count": 2,
   "id": "c8f50b89-70ee-49e4-93c0-781105289199",
   "metadata": {},
   "outputs": [
    {
     "data": {
      "text/html": [
       "<div>\n",
       "<style scoped>\n",
       "    .dataframe tbody tr th:only-of-type {\n",
       "        vertical-align: middle;\n",
       "    }\n",
       "\n",
       "    .dataframe tbody tr th {\n",
       "        vertical-align: top;\n",
       "    }\n",
       "\n",
       "    .dataframe thead th {\n",
       "        text-align: right;\n",
       "    }\n",
       "</style>\n",
       "<table border=\"1\" class=\"dataframe\">\n",
       "  <thead>\n",
       "    <tr style=\"text-align: right;\">\n",
       "      <th></th>\n",
       "      <th>Patient ID</th>\n",
       "      <th>Definition</th>\n",
       "      <th>Tumour Stage</th>\n",
       "      <th>Survival Status</th>\n",
       "      <th>Gender</th>\n",
       "      <th>Menopausal Status</th>\n",
       "      <th>Race</th>\n",
       "      <th>Age</th>\n",
       "      <th>ER</th>\n",
       "      <th>PR</th>\n",
       "      <th>HER2</th>\n",
       "      <th>Lymph Node</th>\n",
       "      <th>Metastasis</th>\n",
       "      <th>Histological Type</th>\n",
       "      <th>Subtype</th>\n",
       "    </tr>\n",
       "  </thead>\n",
       "  <tbody>\n",
       "    <tr>\n",
       "      <th>0</th>\n",
       "      <td>TCGA-3C-AAAU</td>\n",
       "      <td>primary solid tumor</td>\n",
       "      <td>X</td>\n",
       "      <td>alive</td>\n",
       "      <td>female</td>\n",
       "      <td>premenopausal</td>\n",
       "      <td>white</td>\n",
       "      <td>55.0</td>\n",
       "      <td>positive</td>\n",
       "      <td>positive</td>\n",
       "      <td>negative</td>\n",
       "      <td>NaN</td>\n",
       "      <td>NaN</td>\n",
       "      <td>infiltrating lobular carcinoma</td>\n",
       "      <td>LumA</td>\n",
       "    </tr>\n",
       "    <tr>\n",
       "      <th>1</th>\n",
       "      <td>TCGA-3C-AALI</td>\n",
       "      <td>primary solid tumor</td>\n",
       "      <td>2b</td>\n",
       "      <td>alive</td>\n",
       "      <td>female</td>\n",
       "      <td>postmenopausal</td>\n",
       "      <td>black or african american</td>\n",
       "      <td>50.0</td>\n",
       "      <td>positive</td>\n",
       "      <td>positive</td>\n",
       "      <td>positive</td>\n",
       "      <td>NaN</td>\n",
       "      <td>NaN</td>\n",
       "      <td>infiltrating ductal carcinoma</td>\n",
       "      <td>Basal</td>\n",
       "    </tr>\n",
       "    <tr>\n",
       "      <th>2</th>\n",
       "      <td>TCGA-3C-AALJ</td>\n",
       "      <td>primary solid tumor</td>\n",
       "      <td>2b</td>\n",
       "      <td>alive</td>\n",
       "      <td>female</td>\n",
       "      <td>postmenopausal</td>\n",
       "      <td>black or african american</td>\n",
       "      <td>NaN</td>\n",
       "      <td>positive</td>\n",
       "      <td>positive</td>\n",
       "      <td>indeterminate</td>\n",
       "      <td>NaN</td>\n",
       "      <td>NaN</td>\n",
       "      <td>infiltrating ductal carcinoma</td>\n",
       "      <td>Basal</td>\n",
       "    </tr>\n",
       "    <tr>\n",
       "      <th>3</th>\n",
       "      <td>TCGA-3C-AALK</td>\n",
       "      <td>primary solid tumor</td>\n",
       "      <td>1a</td>\n",
       "      <td>alive</td>\n",
       "      <td>female</td>\n",
       "      <td>unknown</td>\n",
       "      <td>black or african american</td>\n",
       "      <td>NaN</td>\n",
       "      <td>positive</td>\n",
       "      <td>positive</td>\n",
       "      <td>positive</td>\n",
       "      <td>NaN</td>\n",
       "      <td>NaN</td>\n",
       "      <td>infiltrating ductal carcinoma</td>\n",
       "      <td>LumA</td>\n",
       "    </tr>\n",
       "    <tr>\n",
       "      <th>4</th>\n",
       "      <td>TCGA-4H-AAAK</td>\n",
       "      <td>primary solid tumor</td>\n",
       "      <td>3a</td>\n",
       "      <td>alive</td>\n",
       "      <td>female</td>\n",
       "      <td>postmenopausal</td>\n",
       "      <td>white</td>\n",
       "      <td>50.0</td>\n",
       "      <td>positive</td>\n",
       "      <td>positive</td>\n",
       "      <td>negative</td>\n",
       "      <td>NaN</td>\n",
       "      <td>NaN</td>\n",
       "      <td>infiltrating lobular carcinoma</td>\n",
       "      <td>Her2</td>\n",
       "    </tr>\n",
       "    <tr>\n",
       "      <th>...</th>\n",
       "      <td>...</td>\n",
       "      <td>...</td>\n",
       "      <td>...</td>\n",
       "      <td>...</td>\n",
       "      <td>...</td>\n",
       "      <td>...</td>\n",
       "      <td>...</td>\n",
       "      <td>...</td>\n",
       "      <td>...</td>\n",
       "      <td>...</td>\n",
       "      <td>...</td>\n",
       "      <td>...</td>\n",
       "      <td>...</td>\n",
       "      <td>...</td>\n",
       "      <td>...</td>\n",
       "    </tr>\n",
       "    <tr>\n",
       "      <th>1200</th>\n",
       "      <td>TCGA-WT-AB44</td>\n",
       "      <td>primary solid tumor</td>\n",
       "      <td>1a</td>\n",
       "      <td>alive</td>\n",
       "      <td>female</td>\n",
       "      <td>postmenopausal</td>\n",
       "      <td>white</td>\n",
       "      <td>77.0</td>\n",
       "      <td>positive</td>\n",
       "      <td>positive</td>\n",
       "      <td>negative</td>\n",
       "      <td>NaN</td>\n",
       "      <td>NaN</td>\n",
       "      <td>infiltrating lobular carcinoma</td>\n",
       "      <td>Basal</td>\n",
       "    </tr>\n",
       "    <tr>\n",
       "      <th>1201</th>\n",
       "      <td>TCGA-XX-A899</td>\n",
       "      <td>primary solid tumor</td>\n",
       "      <td>3a</td>\n",
       "      <td>alive</td>\n",
       "      <td>female</td>\n",
       "      <td>postmenopausal</td>\n",
       "      <td>white</td>\n",
       "      <td>46.0</td>\n",
       "      <td>positive</td>\n",
       "      <td>positive</td>\n",
       "      <td>negative</td>\n",
       "      <td>NaN</td>\n",
       "      <td>NaN</td>\n",
       "      <td>infiltrating lobular carcinoma</td>\n",
       "      <td>LumA</td>\n",
       "    </tr>\n",
       "    <tr>\n",
       "      <th>1202</th>\n",
       "      <td>TCGA-XX-A89A</td>\n",
       "      <td>primary solid tumor</td>\n",
       "      <td>2b</td>\n",
       "      <td>alive</td>\n",
       "      <td>female</td>\n",
       "      <td>postmenopausal</td>\n",
       "      <td>white</td>\n",
       "      <td>68.0</td>\n",
       "      <td>positive</td>\n",
       "      <td>positive</td>\n",
       "      <td>negative</td>\n",
       "      <td>NaN</td>\n",
       "      <td>NaN</td>\n",
       "      <td>infiltrating lobular carcinoma</td>\n",
       "      <td>LumB</td>\n",
       "    </tr>\n",
       "    <tr>\n",
       "      <th>1203</th>\n",
       "      <td>TCGA-Z7-A8R5</td>\n",
       "      <td>primary solid tumor</td>\n",
       "      <td>3a</td>\n",
       "      <td>alive</td>\n",
       "      <td>female</td>\n",
       "      <td>postmenopausal</td>\n",
       "      <td>white</td>\n",
       "      <td>61.0</td>\n",
       "      <td>positive</td>\n",
       "      <td>positive</td>\n",
       "      <td>negative</td>\n",
       "      <td>NaN</td>\n",
       "      <td>NaN</td>\n",
       "      <td>infiltrating lobular carcinoma</td>\n",
       "      <td>LumA</td>\n",
       "    </tr>\n",
       "    <tr>\n",
       "      <th>1204</th>\n",
       "      <td>TCGA-Z7-A8R6</td>\n",
       "      <td>primary solid tumor</td>\n",
       "      <td>1</td>\n",
       "      <td>alive</td>\n",
       "      <td>female</td>\n",
       "      <td>premenopausal</td>\n",
       "      <td>white</td>\n",
       "      <td>46.0</td>\n",
       "      <td>positive</td>\n",
       "      <td>positive</td>\n",
       "      <td>negative</td>\n",
       "      <td>NaN</td>\n",
       "      <td>NaN</td>\n",
       "      <td>infiltrating lobular carcinoma</td>\n",
       "      <td>Basal</td>\n",
       "    </tr>\n",
       "  </tbody>\n",
       "</table>\n",
       "<p>1205 rows × 15 columns</p>\n",
       "</div>"
      ],
      "text/plain": [
       "        Patient ID           Definition Tumour Stage Survival Status  Gender  \\\n",
       "0     TCGA-3C-AAAU  primary solid tumor            X           alive  female   \n",
       "1     TCGA-3C-AALI  primary solid tumor           2b           alive  female   \n",
       "2     TCGA-3C-AALJ  primary solid tumor           2b           alive  female   \n",
       "3     TCGA-3C-AALK  primary solid tumor           1a           alive  female   \n",
       "4     TCGA-4H-AAAK  primary solid tumor           3a           alive  female   \n",
       "...            ...                  ...          ...             ...     ...   \n",
       "1200  TCGA-WT-AB44  primary solid tumor           1a           alive  female   \n",
       "1201  TCGA-XX-A899  primary solid tumor           3a           alive  female   \n",
       "1202  TCGA-XX-A89A  primary solid tumor           2b           alive  female   \n",
       "1203  TCGA-Z7-A8R5  primary solid tumor           3a           alive  female   \n",
       "1204  TCGA-Z7-A8R6  primary solid tumor            1           alive  female   \n",
       "\n",
       "     Menopausal Status                       Race   Age        ER        PR  \\\n",
       "0        premenopausal                      white  55.0  positive  positive   \n",
       "1       postmenopausal  black or african american  50.0  positive  positive   \n",
       "2       postmenopausal  black or african american   NaN  positive  positive   \n",
       "3              unknown  black or african american   NaN  positive  positive   \n",
       "4       postmenopausal                      white  50.0  positive  positive   \n",
       "...                ...                        ...   ...       ...       ...   \n",
       "1200    postmenopausal                      white  77.0  positive  positive   \n",
       "1201    postmenopausal                      white  46.0  positive  positive   \n",
       "1202    postmenopausal                      white  68.0  positive  positive   \n",
       "1203    postmenopausal                      white  61.0  positive  positive   \n",
       "1204     premenopausal                      white  46.0  positive  positive   \n",
       "\n",
       "               HER2 Lymph Node Metastasis               Histological Type  \\\n",
       "0          negative        NaN        NaN  infiltrating lobular carcinoma   \n",
       "1          positive        NaN        NaN   infiltrating ductal carcinoma   \n",
       "2     indeterminate        NaN        NaN   infiltrating ductal carcinoma   \n",
       "3          positive        NaN        NaN   infiltrating ductal carcinoma   \n",
       "4          negative        NaN        NaN  infiltrating lobular carcinoma   \n",
       "...             ...        ...        ...                             ...   \n",
       "1200       negative        NaN        NaN  infiltrating lobular carcinoma   \n",
       "1201       negative        NaN        NaN  infiltrating lobular carcinoma   \n",
       "1202       negative        NaN        NaN  infiltrating lobular carcinoma   \n",
       "1203       negative        NaN        NaN  infiltrating lobular carcinoma   \n",
       "1204       negative        NaN        NaN  infiltrating lobular carcinoma   \n",
       "\n",
       "     Subtype  \n",
       "0       LumA  \n",
       "1      Basal  \n",
       "2      Basal  \n",
       "3       LumA  \n",
       "4       Her2  \n",
       "...      ...  \n",
       "1200   Basal  \n",
       "1201    LumA  \n",
       "1202    LumB  \n",
       "1203    LumA  \n",
       "1204   Basal  \n",
       "\n",
       "[1205 rows x 15 columns]"
      ]
     },
     "execution_count": 2,
     "metadata": {},
     "output_type": "execute_result"
    }
   ],
   "source": [
    "#Importing data\n",
    "Data = pd.read_csv(\"analitics_hub_tcga_output.csv\")\n",
    "Data"
   ]
  },
  {
   "cell_type": "code",
   "execution_count": 3,
   "id": "fe702a4e-b51c-4caf-9136-b6cf0d8d2cd3",
   "metadata": {},
   "outputs": [
    {
     "name": "stdout",
     "output_type": "stream",
     "text": [
      "<class 'pandas.core.frame.DataFrame'>\n",
      "RangeIndex: 1205 entries, 0 to 1204\n",
      "Data columns (total 15 columns):\n",
      " #   Column             Non-Null Count  Dtype  \n",
      "---  ------             --------------  -----  \n",
      " 0   Patient ID         1205 non-null   object \n",
      " 1   Definition         1205 non-null   object \n",
      " 2   Tumour Stage       1193 non-null   object \n",
      " 3   Survival Status    1205 non-null   object \n",
      " 4   Gender             1205 non-null   object \n",
      " 5   Menopausal Status  1203 non-null   object \n",
      " 6   Race               1205 non-null   object \n",
      " 7   Age                1200 non-null   float64\n",
      " 8   ER                 1092 non-null   object \n",
      " 9   PR                 1092 non-null   object \n",
      " 10  HER2               1086 non-null   object \n",
      " 11  Lymph Node         776 non-null    object \n",
      " 12  Metastasis         771 non-null    object \n",
      " 13  Histological Type  1203 non-null   object \n",
      " 14  Subtype            1093 non-null   object \n",
      "dtypes: float64(1), object(14)\n",
      "memory usage: 141.3+ KB\n"
     ]
    }
   ],
   "source": [
    "#Data information\n",
    "Data.info()"
   ]
  },
  {
   "cell_type": "markdown",
   "id": "f1466827-8571-49dc-98bc-60ccf8392387",
   "metadata": {},
   "source": [
    ".\n",
    "\n",
    "Almost all features are \"object\" (i.e. categorical features)"
   ]
  },
  {
   "cell_type": "code",
   "execution_count": 4,
   "id": "aa9c9c9f-c53e-453d-83a3-a2b79a03dd55",
   "metadata": {},
   "outputs": [
    {
     "data": {
      "text/plain": [
       "Patient ID             0\n",
       "Definition             0\n",
       "Tumour Stage          12\n",
       "Survival Status        0\n",
       "Gender                 0\n",
       "Menopausal Status      2\n",
       "Race                   0\n",
       "Age                    5\n",
       "ER                   113\n",
       "PR                   113\n",
       "HER2                 119\n",
       "Lymph Node           429\n",
       "Metastasis           434\n",
       "Histological Type      2\n",
       "Subtype              112\n",
       "dtype: int64"
      ]
     },
     "execution_count": 4,
     "metadata": {},
     "output_type": "execute_result"
    }
   ],
   "source": [
    "#Missing values\n",
    "Data.isna().sum()"
   ]
  },
  {
   "cell_type": "markdown",
   "id": "6acb2e95-6161-44d4-adb8-670d8691ca11",
   "metadata": {},
   "source": [
    ".\n",
    "\n",
    "There are several features with missing values. For some of those, a common imputation method (i.e. mean/median/mode)\n",
    "is not appropriate given that each patient has his/her own data. \n",
    "\n",
    "Some alternative options are:\n",
    "- Remove all NaN values (this will reduce the dataset)\n",
    "- Set those values to 0 (meaning that the measure is absent or unknown)\n",
    "\n",
    "Let's create a Training and a Test: this latter will be 3% of the original dataset (36 samples) and it will be used\n",
    "as *unseen data* at the end of this notebook."
   ]
  },
  {
   "cell_type": "code",
   "execution_count": 5,
   "id": "35e852a6-3de5-4fcc-a78e-28bf3355c3a3",
   "metadata": {},
   "outputs": [
    {
     "data": {
      "text/html": [
       "<div>\n",
       "<style scoped>\n",
       "    .dataframe tbody tr th:only-of-type {\n",
       "        vertical-align: middle;\n",
       "    }\n",
       "\n",
       "    .dataframe tbody tr th {\n",
       "        vertical-align: top;\n",
       "    }\n",
       "\n",
       "    .dataframe thead th {\n",
       "        text-align: right;\n",
       "    }\n",
       "</style>\n",
       "<table border=\"1\" class=\"dataframe\">\n",
       "  <thead>\n",
       "    <tr style=\"text-align: right;\">\n",
       "      <th></th>\n",
       "      <th>Patient ID</th>\n",
       "      <th>Definition</th>\n",
       "      <th>Tumour Stage</th>\n",
       "      <th>Gender</th>\n",
       "      <th>Menopausal Status</th>\n",
       "      <th>Race</th>\n",
       "      <th>Age</th>\n",
       "      <th>ER</th>\n",
       "      <th>PR</th>\n",
       "      <th>HER2</th>\n",
       "      <th>Lymph Node</th>\n",
       "      <th>Metastasis</th>\n",
       "      <th>Histological Type</th>\n",
       "      <th>Subtype</th>\n",
       "    </tr>\n",
       "  </thead>\n",
       "  <tbody>\n",
       "    <tr>\n",
       "      <th>141</th>\n",
       "      <td>TCGA-A7-A13G</td>\n",
       "      <td>primary solid tumor</td>\n",
       "      <td>2a</td>\n",
       "      <td>female</td>\n",
       "      <td>postmenopausal</td>\n",
       "      <td>white</td>\n",
       "      <td>79.0</td>\n",
       "      <td>positive</td>\n",
       "      <td>positive</td>\n",
       "      <td>negative</td>\n",
       "      <td>absent</td>\n",
       "      <td>absent</td>\n",
       "      <td>infiltrating lobular carcinoma</td>\n",
       "      <td>Basal</td>\n",
       "    </tr>\n",
       "    <tr>\n",
       "      <th>541</th>\n",
       "      <td>TCGA-BH-A0B4</td>\n",
       "      <td>primary solid tumor</td>\n",
       "      <td>3a</td>\n",
       "      <td>male</td>\n",
       "      <td>not available</td>\n",
       "      <td>white</td>\n",
       "      <td>65.0</td>\n",
       "      <td>positive</td>\n",
       "      <td>positive</td>\n",
       "      <td>equivocal</td>\n",
       "      <td>present</td>\n",
       "      <td>absent</td>\n",
       "      <td>infiltrating ductal carcinoma</td>\n",
       "      <td>LumA</td>\n",
       "    </tr>\n",
       "    <tr>\n",
       "      <th>851</th>\n",
       "      <td>TCGA-D8-A1XW</td>\n",
       "      <td>primary solid tumor</td>\n",
       "      <td>2a</td>\n",
       "      <td>female</td>\n",
       "      <td>postmenopausal</td>\n",
       "      <td>white</td>\n",
       "      <td>53.0</td>\n",
       "      <td>negative</td>\n",
       "      <td>positive</td>\n",
       "      <td>negative</td>\n",
       "      <td>absent</td>\n",
       "      <td>absent</td>\n",
       "      <td>infiltrating ductal carcinoma</td>\n",
       "      <td>LumA</td>\n",
       "    </tr>\n",
       "    <tr>\n",
       "      <th>487</th>\n",
       "      <td>TCGA-B6-A0IO</td>\n",
       "      <td>primary solid tumor</td>\n",
       "      <td>2a</td>\n",
       "      <td>female</td>\n",
       "      <td>indeterminate</td>\n",
       "      <td>white</td>\n",
       "      <td>66.0</td>\n",
       "      <td>positive</td>\n",
       "      <td>indeterminate</td>\n",
       "      <td>not evaluated</td>\n",
       "      <td>absent</td>\n",
       "      <td>absent</td>\n",
       "      <td>infiltrating ductal carcinoma</td>\n",
       "      <td>LumA</td>\n",
       "    </tr>\n",
       "    <tr>\n",
       "      <th>412</th>\n",
       "      <td>TCGA-AR-A0TZ</td>\n",
       "      <td>primary solid tumor</td>\n",
       "      <td>NaN</td>\n",
       "      <td>female</td>\n",
       "      <td>premenopausal</td>\n",
       "      <td>white</td>\n",
       "      <td>43.0</td>\n",
       "      <td>positive</td>\n",
       "      <td>positive</td>\n",
       "      <td>equivocal</td>\n",
       "      <td>present</td>\n",
       "      <td>absent</td>\n",
       "      <td>infiltrating ductal carcinoma</td>\n",
       "      <td>Basal</td>\n",
       "    </tr>\n",
       "    <tr>\n",
       "      <th>...</th>\n",
       "      <td>...</td>\n",
       "      <td>...</td>\n",
       "      <td>...</td>\n",
       "      <td>...</td>\n",
       "      <td>...</td>\n",
       "      <td>...</td>\n",
       "      <td>...</td>\n",
       "      <td>...</td>\n",
       "      <td>...</td>\n",
       "      <td>...</td>\n",
       "      <td>...</td>\n",
       "      <td>...</td>\n",
       "      <td>...</td>\n",
       "      <td>...</td>\n",
       "    </tr>\n",
       "    <tr>\n",
       "      <th>1033</th>\n",
       "      <td>TCGA-E9-A22G</td>\n",
       "      <td>primary solid tumor</td>\n",
       "      <td>2a</td>\n",
       "      <td>female</td>\n",
       "      <td>postmenopausal</td>\n",
       "      <td>white</td>\n",
       "      <td>47.0</td>\n",
       "      <td>negative</td>\n",
       "      <td>negative</td>\n",
       "      <td>positive</td>\n",
       "      <td>absent</td>\n",
       "      <td>absent</td>\n",
       "      <td>infiltrating ductal carcinoma</td>\n",
       "      <td>LumA</td>\n",
       "    </tr>\n",
       "    <tr>\n",
       "      <th>763</th>\n",
       "      <td>TCGA-C8-A12X</td>\n",
       "      <td>primary solid tumor</td>\n",
       "      <td>2b</td>\n",
       "      <td>female</td>\n",
       "      <td>postmenopausal</td>\n",
       "      <td>asian</td>\n",
       "      <td>62.0</td>\n",
       "      <td>positive</td>\n",
       "      <td>positive</td>\n",
       "      <td>negative</td>\n",
       "      <td>present</td>\n",
       "      <td>absent</td>\n",
       "      <td>mucinous carcinoma</td>\n",
       "      <td>LumB</td>\n",
       "    </tr>\n",
       "    <tr>\n",
       "      <th>835</th>\n",
       "      <td>TCGA-D8-A1XB</td>\n",
       "      <td>primary solid tumor</td>\n",
       "      <td>2b</td>\n",
       "      <td>female</td>\n",
       "      <td>postmenopausal</td>\n",
       "      <td>white</td>\n",
       "      <td>62.0</td>\n",
       "      <td>positive</td>\n",
       "      <td>positive</td>\n",
       "      <td>negative</td>\n",
       "      <td>present</td>\n",
       "      <td>absent</td>\n",
       "      <td>infiltrating ductal carcinoma</td>\n",
       "      <td>LumA</td>\n",
       "    </tr>\n",
       "    <tr>\n",
       "      <th>559</th>\n",
       "      <td>TCGA-BH-A0BL</td>\n",
       "      <td>primary solid tumor</td>\n",
       "      <td>1</td>\n",
       "      <td>female</td>\n",
       "      <td>premenopausal</td>\n",
       "      <td>white</td>\n",
       "      <td>35.0</td>\n",
       "      <td>negative</td>\n",
       "      <td>negative</td>\n",
       "      <td>negative</td>\n",
       "      <td>absent</td>\n",
       "      <td>absent</td>\n",
       "      <td>infiltrating ductal carcinoma</td>\n",
       "      <td>LumA</td>\n",
       "    </tr>\n",
       "    <tr>\n",
       "      <th>684</th>\n",
       "      <td>TCGA-BH-A1EO</td>\n",
       "      <td>solid tissue normal</td>\n",
       "      <td>2a</td>\n",
       "      <td>female</td>\n",
       "      <td>postmenopausal</td>\n",
       "      <td>white</td>\n",
       "      <td>68.0</td>\n",
       "      <td>NaN</td>\n",
       "      <td>NaN</td>\n",
       "      <td>NaN</td>\n",
       "      <td>NaN</td>\n",
       "      <td>NaN</td>\n",
       "      <td>mixed histology</td>\n",
       "      <td>NaN</td>\n",
       "    </tr>\n",
       "  </tbody>\n",
       "</table>\n",
       "<p>1168 rows × 14 columns</p>\n",
       "</div>"
      ],
      "text/plain": [
       "        Patient ID           Definition Tumour Stage  Gender  \\\n",
       "141   TCGA-A7-A13G  primary solid tumor           2a  female   \n",
       "541   TCGA-BH-A0B4  primary solid tumor           3a    male   \n",
       "851   TCGA-D8-A1XW  primary solid tumor           2a  female   \n",
       "487   TCGA-B6-A0IO  primary solid tumor           2a  female   \n",
       "412   TCGA-AR-A0TZ  primary solid tumor          NaN  female   \n",
       "...            ...                  ...          ...     ...   \n",
       "1033  TCGA-E9-A22G  primary solid tumor           2a  female   \n",
       "763   TCGA-C8-A12X  primary solid tumor           2b  female   \n",
       "835   TCGA-D8-A1XB  primary solid tumor           2b  female   \n",
       "559   TCGA-BH-A0BL  primary solid tumor            1  female   \n",
       "684   TCGA-BH-A1EO  solid tissue normal           2a  female   \n",
       "\n",
       "     Menopausal Status   Race   Age        ER             PR           HER2  \\\n",
       "141     postmenopausal  white  79.0  positive       positive       negative   \n",
       "541      not available  white  65.0  positive       positive      equivocal   \n",
       "851     postmenopausal  white  53.0  negative       positive       negative   \n",
       "487      indeterminate  white  66.0  positive  indeterminate  not evaluated   \n",
       "412      premenopausal  white  43.0  positive       positive      equivocal   \n",
       "...                ...    ...   ...       ...            ...            ...   \n",
       "1033    postmenopausal  white  47.0  negative       negative       positive   \n",
       "763     postmenopausal  asian  62.0  positive       positive       negative   \n",
       "835     postmenopausal  white  62.0  positive       positive       negative   \n",
       "559      premenopausal  white  35.0  negative       negative       negative   \n",
       "684     postmenopausal  white  68.0       NaN            NaN            NaN   \n",
       "\n",
       "     Lymph Node Metastasis               Histological Type Subtype  \n",
       "141      absent     absent  infiltrating lobular carcinoma   Basal  \n",
       "541     present     absent   infiltrating ductal carcinoma    LumA  \n",
       "851      absent     absent   infiltrating ductal carcinoma    LumA  \n",
       "487      absent     absent   infiltrating ductal carcinoma    LumA  \n",
       "412     present     absent   infiltrating ductal carcinoma   Basal  \n",
       "...         ...        ...                             ...     ...  \n",
       "1033     absent     absent   infiltrating ductal carcinoma    LumA  \n",
       "763     present     absent              mucinous carcinoma    LumB  \n",
       "835     present     absent   infiltrating ductal carcinoma    LumA  \n",
       "559      absent     absent   infiltrating ductal carcinoma    LumA  \n",
       "684         NaN        NaN                 mixed histology     NaN  \n",
       "\n",
       "[1168 rows x 14 columns]"
      ]
     },
     "execution_count": 5,
     "metadata": {},
     "output_type": "execute_result"
    }
   ],
   "source": [
    "#Creation of a Training set and a Test set \n",
    "X_train, X_test, y_train, y_test = train_test_split(Data.drop([\"Survival Status\"],axis=1),\n",
    "                                                    Data[\"Survival Status\"], \n",
    "                                                    test_size = 0.03, random_state = 0)\n",
    "\n",
    "X_train"
   ]
  },
  {
   "cell_type": "markdown",
   "id": "8c981a99-0e7a-43e2-8114-e4d722c6d6bd",
   "metadata": {},
   "source": [
    ".\n",
    "\n",
    ".\n",
    "\n",
    "## **2. Data cleaning and preparation**"
   ]
  },
  {
   "cell_type": "code",
   "execution_count": 6,
   "id": "b252f495-9d12-4c5a-b87e-de04b455a816",
   "metadata": {},
   "outputs": [
    {
     "name": "stdout",
     "output_type": "stream",
     "text": [
      "<class 'pandas.core.frame.DataFrame'>\n",
      "Int64Index: 1168 entries, 141 to 684\n",
      "Data columns (total 14 columns):\n",
      " #   Column             Non-Null Count  Dtype  \n",
      "---  ------             --------------  -----  \n",
      " 0   Patient ID         1168 non-null   object \n",
      " 1   Definition         1168 non-null   object \n",
      " 2   Tumour Stage       1156 non-null   object \n",
      " 3   Gender             1168 non-null   object \n",
      " 4   Menopausal Status  1166 non-null   object \n",
      " 5   Race               1168 non-null   object \n",
      " 6   Age                1164 non-null   float64\n",
      " 7   ER                 1059 non-null   object \n",
      " 8   PR                 1059 non-null   object \n",
      " 9   HER2               1054 non-null   object \n",
      " 10  Lymph Node         751 non-null    object \n",
      " 11  Metastasis         747 non-null    object \n",
      " 12  Histological Type  1166 non-null   object \n",
      " 13  Subtype            1060 non-null   object \n",
      "dtypes: float64(1), object(13)\n",
      "memory usage: 136.9+ KB\n"
     ]
    }
   ],
   "source": [
    "#Training data information\n",
    "X_train.info()"
   ]
  },
  {
   "cell_type": "markdown",
   "id": "fb4a1dce-a4a3-4e0a-84f1-a74705bc71b3",
   "metadata": {},
   "source": [
    ".\n",
    "\n",
    "For what concerns the \"Patient_ID\" column, each code name is made of three parts:\n",
    "- The first part is the acronym for \"The Cancer Genome Atlas\" (TCGA)\n",
    "- The second one refers to a particular type of cancer \n",
    "- The third one is a code related to the patient\n",
    "\n",
    "There are 830 different types of cancer (from https://gdc.cancer.gov/resources-tcga-users/tcga-code-tables/tissue-source-site-codes)"
   ]
  },
  {
   "cell_type": "code",
   "execution_count": 7,
   "id": "95d3443a-7dcc-421c-a841-134af558d353",
   "metadata": {},
   "outputs": [],
   "source": [
    "#Creation of a series with the 830 different types of cancer.\n",
    "TSS = [\"1\",\"2\",\"4\",\"5\",\"6\",\"7\",\"8\",\"9\",\"10\",\"11\",\"12\",\"13\",\"14\",\"15\",\"16\",\"17\",\"18\",\"19\",\"1Z\",\"20\",\"21\",\"22\",\"23\",\"24\",\"25\",\n",
    "       \"26\",\"27\",\"28\",\"29\",\"2A\",\"2E\",\"2F\",\"2G\",\"2H\",\"2J\",\"2K\",\"2L\",\"2M\",\"2N\",\"2P\",\"2V\",\"2W\",\"2X\",\"2Y\",\"2Z\",\"30\",\"31\",\"32\",\"33\",\n",
    "       \"34\",\"35\",\"36\",\"37\",\"38\",\"39\",\"3A\",\"3B\",\"3C\",\"3E\",\"3G\",\"3H\",\"3J\",\"3K\",\"3L\",\"3M\",\"3N\",\"3P\",\"3Q\",\"3R\",\"3S\",\"3T\",\"3U\",\"3W\",\n",
    "       \"3X\",\"3Z\",\"41\",\"42\",\"43\",\"44\",\"46\",\"49\",\"4A\",\"4B\",\"4C\",\"4D\",\"4E\",\"4G\",\"4H\",\"4J\",\"4K\",\"4L\",\"4N\",\"4P\",\"4Q\",\"4R\",\"4S\",\"4T\",\n",
    "       \"4V\",\"4W\",\"4X\",\"4Y\",\"4Z\",\"50\",\"51\",\"52\",\"53\",\"55\",\"56\",\"57\",\"58\",\"59\",\"5A\",\"5B\",\"5C\",\"5D\",\"5F\",\"5G\",\"5H\",\"5J\",\"5K\",\"5L\",\n",
    "       \"5M\",\"5N\",\"5P\",\"5Q\",\"5R\",\"5S\",\"5T\",\"5U\",\"5V\",\"5W\",\"5X\",\"60\",\"61\",\"62\",\"63\",\"64\",\"65\",\"66\",\"67\",\"68\",\"69\",\"6A\",\"6D\",\"6G\",\n",
    "       \"6H\",\"70\",\"71\",\"72\",\"73\",\"74\",\"75\",\"76\",\"77\",\"78\",\"79\",\"80\",\"81\",\"82\",\"83\",\"85\",\"86\",\"87\",\"90\",\"91\",\"92\",\"93\",\"94\",\"95\",\n",
    "       \"96\",\"97\",\"98\",\"99\",\"A1\",\"A2\",\"A3\",\"A4\",\"A5\",\"A6\",\"A7\",\"A8\",\"AA\",\"AB\",\"AC\",\"AD\",\"AF\",\"AG\",\"AH\",\"AJ\",\"AK\",\"AL\",\"AM\",\"AN\",\n",
    "       \"AO\",\"AP\",\"AQ\",\"AR\",\"AS\",\"AT\",\"AU\",\"AV\",\"AW\",\"AX\",\"AY\",\"AZ\",\"B0\",\"B1\",\"B2\",\"B3\",\"B4\",\"B5\",\"B6\",\"B7\",\"B8\",\"B9\",\"BA\",\"BB\",\n",
    "       \"BC\",\"BD\",\"BF\",\"BG\",\"BH\",\"BI\",\"BJ\",\"BK\",\"BL\",\"BM\",\"BP\",\"BQ\",\"BR\",\"BS\",\"BT\",\"BW\",\"C4\",\"C5\",\"C8\",\"C9\",\"CA\",\"CB\",\"CC\",\"CD\",\n",
    "       \"CE\",\"CF\",\"CG\",\"CH\",\"CI\",\"CJ\",\"CK\",\"CL\",\"CM\",\"CN\",\"CQ\",\"CR\",\"CS\",\"CU\",\"CV\",\"CW\",\"CX\",\"CZ\",\"D1\",\"D3\",\"D5\",\"D6\",\"D7\",\"D8\",\n",
    "       \"D9\",\"DA\",\"DB\",\"DC\",\"DD\",\"DE\",\"DF\",\"DG\",\"DH\",\"DI\",\"DJ\",\"DK\",\"DM\",\"DO\",\"DQ\",\"DR\",\"DS\",\"DT\",\"DU\",\"DV\",\"DW\",\"DX\",\"DY\",\"DZ\",\n",
    "       \"E1\",\"E2\",\"E3\",\"E5\",\"E6\",\"E7\",\"E8\",\"E9\",\"EA\",\"EB\",\"EC\",\"ED\",\"EE\",\"EF\",\"EI\",\"EJ\",\"EK\",\"EL\",\"EM\",\"EO\",\"EP\",\"EQ\",\"ER\",\"ES\",\n",
    "       \"ET\",\"EU\",\"EV\",\"EW\",\"EX\",\"EY\",\"EZ\",\"F1\",\"F2\",\"F4\",\"F5\",\"F6\",\"F7\",\"F9\",\"FA\",\"FB\",\"FC\",\"FD\",\"FE\",\"FF\",\"FG\",\"FH\",\"FI\",\"FJ\",\n",
    "       \"FK\",\"FL\",\"FM\",\"FN\",\"FP\",\"FQ\",\"FR\",\"FS\",\"FT\",\"FU\",\"FV\",\"FW\",\"FX\",\"FY\",\"FZ\",\"G2\",\"G3\",\"G4\",\"G5\",\"G6\",\"G7\",\"G8\",\"G9\",\"GC\",\n",
    "       \"GD\",\"GE\",\"GF\",\"GG\",\"GH\",\"GI\",\"GJ\",\"GK\",\"GL\",\"GM\",\"GN\",\"GP\",\"GR\",\"GS\",\"GU\",\"GV\",\"GZ\",\"H1\",\"H2\",\"H3\",\"H4\",\"H5\",\"H6\",\"H7\",\n",
    "       \"H8\",\"H9\",\"HA\",\"HB\",\"HC\",\"HD\",\"HE\",\"HF\",\"HG\",\"HH\",\"HI\",\"HJ\",\"HK\",\"HL\",\"HM\",\"HN\",\"HP\",\"HQ\",\"HR\",\"HS\",\"HT\",\"HU\",\"HV\",\"HW\",\n",
    "       \"HZ\",\"IA\",\"IB\",\"IC\",\"IE\",\"IF\",\"IG\",\"IH\",\"IJ\",\"IK\",\"IM\",\"IN\",\"IP\",\"IQ\",\"IR\",\"IS\",\"IW\",\"IZ\",\"J1\",\"J2\",\"J4\",\"J7\",\"J8\",\"J9\",\n",
    "       \"JA\",\"JL\",\"JU\",\"JV\",\"JW\",\"JX\",\"JY\",\"JZ\",\"K1\",\"K4\",\"K6\",\"K7\",\"K8\",\"KA\",\"KB\",\"KC\",\"KD\",\"KE\",\"KF\",\"KG\",\"KH\",\"KJ\",\"KK\",\"KL\",\n",
    "       \"KM\",\"KN\",\"KO\",\"KP\",\"KQ\",\"KR\",\"KS\",\"KT\",\"KU\",\"KV\",\"KZ\",\"L1\",\"L3\",\"L4\",\"L5\",\"L6\",\"L7\",\"L8\",\"L9\",\"LA\",\"LB\",\"LC\",\"LD\",\"LG\",\n",
    "       \"LH\",\"LI\",\"LK\",\"LL\",\"LN\",\"LP\",\"LQ\",\"LS\",\"LT\",\"M7\",\"M8\",\"M9\",\"MA\",\"MB\",\"ME\",\"MF\",\"MG\",\"MH\",\"MI\",\"MJ\",\"MK\",\"ML\",\"MM\",\"MN\",\n",
    "       \"MO\",\"MP\",\"MQ\",\"MR\",\"MS\",\"MT\",\"MU\",\"MV\",\"MW\",\"MX\",\"MY\",\"MZ\",\"N1\",\"N5\",\"N6\",\"N7\",\"N8\",\"N9\",\"NA\",\"NB\",\"NC\",\"ND\",\"NF\",\"NG\",\n",
    "       \"NH\",\"NI\",\"NJ\",\"NK\",\"NM\",\"NP\",\"NQ\",\"NS\",\"O1\",\"O2\",\"O8\",\"O9\",\"OC\",\"OD\",\"OE\",\"OJ\",\"OK\",\"OL\",\"OR\",\"OU\",\"OW\",\"OX\",\"OY\",\"P3\",\n",
    "       \"P4\",\"P5\",\"P6\",\"P7\",\"P8\",\"P9\",\"PA\",\"PB\",\"PC\",\"PD\",\"PE\",\"PG\",\"PH\",\"PJ\",\"PK\",\"PL\",\"PN\",\"PQ\",\"PR\",\"PT\",\"PZ\",\"Q1\",\"Q2\",\"Q3\",\n",
    "       \"Q4\",\"Q9\",\"QA\",\"QB\",\"QC\",\"QD\",\"QF\",\"QG\",\"QH\",\"QJ\",\"QK\",\"QL\",\"QM\",\"QN\",\"QQ\",\"QR\",\"QS\",\"QT\",\"QU\",\"QV\",\"QW\",\"R1\",\"R2\",\"R3\",\n",
    "       \"R5\",\"R6\",\"R7\",\"R8\",\"R9\",\"RA\",\"RB\",\"RC\",\"RD\",\"RE\",\"RG\",\"RH\",\"RL\",\"RM\",\"RN\",\"RP\",\"RQ\",\"RR\",\"RS\",\"RT\",\"RU\",\"RV\",\"RW\",\"RX\",\n",
    "       \"RY\",\"RZ\",\"S2\",\"S3\",\"S4\",\"S5\",\"S6\",\"S7\",\"S8\",\"S9\",\"SA\",\"SB\",\"SC\",\"SD\",\"SE\",\"SG\",\"SH\",\"SI\",\"SJ\",\"SK\",\"SL\",\"SN\",\"SO\",\"SP\",\n",
    "       \"SQ\",\"SR\",\"SS\",\"ST\",\"SU\",\"SW\",\"SX\",\"SY\",\"T1\",\"T2\",\"T3\",\"T6\",\"T7\",\"T9\",\"TE\",\"TG\",\"TK\",\"TL\",\"TM\",\"TN\",\"TP\",\"TQ\",\"TR\",\"TS\",\n",
    "       \"TT\",\"TV\",\"UB\",\"UC\",\"UD\",\"UE\",\"UF\",\"UJ\",\"UL\",\"UN\",\"UP\",\"UR\",\"US\",\"UT\",\"UU\",\"UV\",\"UW\",\"UY\",\"UZ\",\"V1\",\"V2\",\"V3\",\"V4\",\"V5\",\n",
    "       \"V6\",\"V7\",\"V8\",\"V9\",\"VA\",\"VB\",\"VD\",\"VF\",\"VG\",\"VK\",\"VL\",\"VM\",\"VN\",\"VP\",\"VQ\",\"VR\",\"VS\",\"VT\",\"VV\",\"VW\",\"VX\",\"VZ\",\"W2\",\"W3\",\n",
    "       \"W4\",\"W5\",\"W6\",\"W7\",\"W8\",\"W9\",\"WA\",\"WB\",\"WC\",\"WD\",\"WE\",\"WF\",\"WG\",\"WH\",\"WJ\",\"WK\",\"WL\",\"WM\",\"WN\",\"WP\",\"WQ\",\"WR\",\"WS\",\"WT\",\n",
    "       \"WU\",\"WW\",\"WX\",\"WY\",\"WZ\",\"X2\",\"X3\",\"X4\",\"X5\",\"X6\",\"X7\",\"X8\",\"X9\",\"XA\",\"XB\",\"XC\",\"XD\",\"XE\",\"XF\",\"XG\",\"XH\",\"XJ\",\"XK\",\"XM\",\n",
    "       \"XN\",\"XP\",\"XQ\",\"XR\",\"XS\",\"XT\",\"XU\",\"XV\",\"XX\",\"XY\",\"Y3\",\"Y5\",\"Y6\",\"Y8\",\"YA\",\"YB\",\"YC\",\"YD\",\"YF\",\"YG\",\"YH\",\"YJ\",\"YL\",\"YN\",\n",
    "       \"YR\",\"YS\",\"YT\",\"YU\",\"YV\",\"YW\",\"YX\",\"YY\",\"YZ\",\"Z2\",\"Z3\",\"Z4\",\"Z5\",\"Z6\",\"Z7\",\"Z8\",\"ZA\",\"ZB\",\"ZC\",\"ZD\",\"ZE\",\"ZF\",\"ZG\",\"ZH\",\n",
    "       \"ZJ\",\"ZK\",\"ZL\",\"ZM\",\"ZN\",\"ZP\",\"ZQ\",\"ZR\",\"ZS\",\"ZT\",\"ZU\",\"ZW\",\"ZX\"]"
   ]
  },
  {
   "cell_type": "code",
   "execution_count": 8,
   "id": "f8e4024b-c625-4c81-8323-2eab43837e94",
   "metadata": {},
   "outputs": [
    {
     "data": {
      "text/html": [
       "<div>\n",
       "<style scoped>\n",
       "    .dataframe tbody tr th:only-of-type {\n",
       "        vertical-align: middle;\n",
       "    }\n",
       "\n",
       "    .dataframe tbody tr th {\n",
       "        vertical-align: top;\n",
       "    }\n",
       "\n",
       "    .dataframe thead th {\n",
       "        text-align: right;\n",
       "    }\n",
       "</style>\n",
       "<table border=\"1\" class=\"dataframe\">\n",
       "  <thead>\n",
       "    <tr style=\"text-align: right;\">\n",
       "      <th></th>\n",
       "      <th>Definition</th>\n",
       "      <th>Tumour Stage</th>\n",
       "      <th>Gender</th>\n",
       "      <th>Menopausal Status</th>\n",
       "      <th>Race</th>\n",
       "      <th>Age</th>\n",
       "      <th>ER</th>\n",
       "      <th>PR</th>\n",
       "      <th>HER2</th>\n",
       "      <th>Lymph Node</th>\n",
       "      <th>Metastasis</th>\n",
       "      <th>Histological Type</th>\n",
       "      <th>Subtype</th>\n",
       "      <th>Tumour_info</th>\n",
       "    </tr>\n",
       "  </thead>\n",
       "  <tbody>\n",
       "    <tr>\n",
       "      <th>141</th>\n",
       "      <td>primary solid tumor</td>\n",
       "      <td>2a</td>\n",
       "      <td>female</td>\n",
       "      <td>postmenopausal</td>\n",
       "      <td>white</td>\n",
       "      <td>79.0</td>\n",
       "      <td>positive</td>\n",
       "      <td>positive</td>\n",
       "      <td>negative</td>\n",
       "      <td>absent</td>\n",
       "      <td>absent</td>\n",
       "      <td>infiltrating lobular carcinoma</td>\n",
       "      <td>Basal</td>\n",
       "      <td>A7</td>\n",
       "    </tr>\n",
       "    <tr>\n",
       "      <th>541</th>\n",
       "      <td>primary solid tumor</td>\n",
       "      <td>3a</td>\n",
       "      <td>male</td>\n",
       "      <td>not available</td>\n",
       "      <td>white</td>\n",
       "      <td>65.0</td>\n",
       "      <td>positive</td>\n",
       "      <td>positive</td>\n",
       "      <td>equivocal</td>\n",
       "      <td>present</td>\n",
       "      <td>absent</td>\n",
       "      <td>infiltrating ductal carcinoma</td>\n",
       "      <td>LumA</td>\n",
       "      <td>BH</td>\n",
       "    </tr>\n",
       "    <tr>\n",
       "      <th>851</th>\n",
       "      <td>primary solid tumor</td>\n",
       "      <td>2a</td>\n",
       "      <td>female</td>\n",
       "      <td>postmenopausal</td>\n",
       "      <td>white</td>\n",
       "      <td>53.0</td>\n",
       "      <td>negative</td>\n",
       "      <td>positive</td>\n",
       "      <td>negative</td>\n",
       "      <td>absent</td>\n",
       "      <td>absent</td>\n",
       "      <td>infiltrating ductal carcinoma</td>\n",
       "      <td>LumA</td>\n",
       "      <td>D8</td>\n",
       "    </tr>\n",
       "    <tr>\n",
       "      <th>487</th>\n",
       "      <td>primary solid tumor</td>\n",
       "      <td>2a</td>\n",
       "      <td>female</td>\n",
       "      <td>indeterminate</td>\n",
       "      <td>white</td>\n",
       "      <td>66.0</td>\n",
       "      <td>positive</td>\n",
       "      <td>indeterminate</td>\n",
       "      <td>not evaluated</td>\n",
       "      <td>absent</td>\n",
       "      <td>absent</td>\n",
       "      <td>infiltrating ductal carcinoma</td>\n",
       "      <td>LumA</td>\n",
       "      <td>B6</td>\n",
       "    </tr>\n",
       "    <tr>\n",
       "      <th>412</th>\n",
       "      <td>primary solid tumor</td>\n",
       "      <td>NaN</td>\n",
       "      <td>female</td>\n",
       "      <td>premenopausal</td>\n",
       "      <td>white</td>\n",
       "      <td>43.0</td>\n",
       "      <td>positive</td>\n",
       "      <td>positive</td>\n",
       "      <td>equivocal</td>\n",
       "      <td>present</td>\n",
       "      <td>absent</td>\n",
       "      <td>infiltrating ductal carcinoma</td>\n",
       "      <td>Basal</td>\n",
       "      <td>AR</td>\n",
       "    </tr>\n",
       "  </tbody>\n",
       "</table>\n",
       "</div>"
      ],
      "text/plain": [
       "              Definition Tumour Stage  Gender Menopausal Status   Race   Age  \\\n",
       "141  primary solid tumor           2a  female    postmenopausal  white  79.0   \n",
       "541  primary solid tumor           3a    male     not available  white  65.0   \n",
       "851  primary solid tumor           2a  female    postmenopausal  white  53.0   \n",
       "487  primary solid tumor           2a  female     indeterminate  white  66.0   \n",
       "412  primary solid tumor          NaN  female     premenopausal  white  43.0   \n",
       "\n",
       "           ER             PR           HER2 Lymph Node Metastasis  \\\n",
       "141  positive       positive       negative     absent     absent   \n",
       "541  positive       positive      equivocal    present     absent   \n",
       "851  negative       positive       negative     absent     absent   \n",
       "487  positive  indeterminate  not evaluated     absent     absent   \n",
       "412  positive       positive      equivocal    present     absent   \n",
       "\n",
       "                  Histological Type Subtype Tumour_info  \n",
       "141  infiltrating lobular carcinoma   Basal          A7  \n",
       "541   infiltrating ductal carcinoma    LumA          BH  \n",
       "851   infiltrating ductal carcinoma    LumA          D8  \n",
       "487   infiltrating ductal carcinoma    LumA          B6  \n",
       "412   infiltrating ductal carcinoma   Basal          AR  "
      ]
     },
     "execution_count": 8,
     "metadata": {},
     "output_type": "execute_result"
    }
   ],
   "source": [
    "#Recover the TSS code from the patient ID and store it into the new column \"Tumour_info\"\n",
    "X_train[\"Tumour_info\"] = X_train[\"Patient ID\"].str.split(\"-\",expand=True).iloc[:,1]\n",
    "X_train.drop([\"Patient ID\"],axis=1, inplace=True)\n",
    "X_train.head()"
   ]
  },
  {
   "cell_type": "code",
   "execution_count": 9,
   "id": "8321bb1f-c437-4619-8326-fa1426494635",
   "metadata": {},
   "outputs": [
    {
     "name": "stdout",
     "output_type": "stream",
     "text": [
      "Definition :  ['primary solid tumor' 'solid tissue normal']\n",
      "Tumour Stage :  ['2a' '3a' nan '1a' '4' '1' '2b' '3c' '3b' 'X' '3' '2' '1b']\n",
      "Gender :  ['female' 'male']\n",
      "Menopausal Status :  ['postmenopausal' 'not available' 'indeterminate' 'premenopausal'\n",
      " 'perimenopausal' 'unknown' 'not evaluated' nan]\n",
      "Race :  ['white' 'black or african american' 'not reported' 'asian'\n",
      " 'american indian or alaska native']\n",
      "ER :  ['positive' 'negative' nan 'not evaluated' 'indeterminate']\n",
      "PR :  ['positive' 'indeterminate' nan 'negative' 'not evaluated']\n",
      "HER2 :  ['negative' 'equivocal' 'not evaluated' nan 'positive' 'indeterminate']\n",
      "Lymph Node :  ['absent' 'present' nan]\n",
      "Metastasis :  ['absent' nan 'present']\n",
      "Histological Type :  ['infiltrating lobular carcinoma' 'infiltrating ductal carcinoma' 'other'\n",
      " 'mixed histology' 'metaplastic carcinoma' 'mucinous carcinoma'\n",
      " 'medullary carcinoma' nan 'infiltrating carcinoma nos' 'not available']\n",
      "Subtype :  ['Basal' 'LumA' nan 'Normal' 'LumB' 'Her2']\n",
      "Tumour_info :  ['A7' 'BH' 'D8' 'B6' 'AR' 'A2' 'A1' 'E9' 'UU' 'E2' 'V7' 'AC' 'C8' 'MS'\n",
      " 'GM' 'AN' 'LL' 'OL' 'AQ' 'A8' 'AO' 'EW' 'GI' 'PE' '3C' 'XX' 'WT' 'LQ'\n",
      " 'PL' 'OK' 'S3' 'W8' 'LD' 'Z7' '5L' 'HN' 'JL' '5T' '4H' 'UL']\n"
     ]
    }
   ],
   "source": [
    "#Unique values in categorical features\n",
    "for i in ['Definition', 'Tumour Stage', 'Gender', 'Menopausal Status', 'Race','ER', 'PR', \n",
    "          'HER2', 'Lymph Node', 'Metastasis', 'Histological Type', 'Subtype', 'Tumour_info'] :\n",
    "    if X_train[i].dtype == \"object\" :\n",
    "        print(i, \": \", X_train[i].unique())"
   ]
  },
  {
   "cell_type": "markdown",
   "id": "e9b55080-25f3-48e7-af7b-033cc9bc5d05",
   "metadata": {},
   "source": [
    ".\n",
    "\n",
    "For each feature:\n",
    "- Strings as \"not available\", \"unknown\", \"not evaluated\", \"not reported\", \"indeterminate\", will be replaced with 0\n",
    "- All the other strings will be replaced with numbers larger than 0\n",
    "- NaN values will be replaced with 0"
   ]
  },
  {
   "cell_type": "code",
   "execution_count": 10,
   "id": "2e797452-77c5-425c-b971-32cb45e87511",
   "metadata": {},
   "outputs": [
    {
     "name": "stdout",
     "output_type": "stream",
     "text": [
      "<class 'pandas.core.frame.DataFrame'>\n",
      "Int64Index: 1168 entries, 141 to 684\n",
      "Data columns (total 14 columns):\n",
      " #   Column             Non-Null Count  Dtype  \n",
      "---  ------             --------------  -----  \n",
      " 0   Definition         1168 non-null   int64  \n",
      " 1   Tumour Stage       1168 non-null   object \n",
      " 2   Gender             1168 non-null   int64  \n",
      " 3   Menopausal Status  1168 non-null   float64\n",
      " 4   Race               1168 non-null   int64  \n",
      " 5   Age                1164 non-null   float64\n",
      " 6   ER                 1168 non-null   float64\n",
      " 7   PR                 1168 non-null   float64\n",
      " 8   HER2               1168 non-null   float64\n",
      " 9   Lymph Node         1168 non-null   float64\n",
      " 10  Metastasis         1168 non-null   float64\n",
      " 11  Histological Type  1168 non-null   float64\n",
      " 12  Subtype            1168 non-null   float64\n",
      " 13  Tumour_info        1168 non-null   int64  \n",
      "dtypes: float64(9), int64(4), object(1)\n",
      "memory usage: 136.9+ KB\n"
     ]
    }
   ],
   "source": [
    "#Categorical to numerical transformation\n",
    "X_train[\"Definition\"].replace(['primary solid tumor','solid tissue normal'],[1,2], inplace=True) \n",
    "X_train[\"Gender\"].replace(['female','male'],[1,2], inplace=True)\n",
    "X_train[\"Menopausal Status\"].replace(['postmenopausal','perimenopausal','premenopausal','not available',\n",
    "                                      'unknown','not evaluated','indeterminate'],[3,2,1,0,0,0,0], inplace=True)\n",
    "X_train[\"Race\"].replace(['white','american indian or alaska native','black or african american','asian',\n",
    "                         'not reported'],[1,2,3,4,0], inplace=True)\n",
    "X_train[\"ER\"].replace(['positive','negative','indeterminate','equivocal','not evaluated'],[2,1,0,0,0], inplace=True)\n",
    "X_train[\"PR\"].replace(['positive','negative','indeterminate','equivocal','not evaluated'],[2,1,0,0,0], inplace=True)\n",
    "X_train[\"HER2\"].replace(['positive','negative','indeterminate','equivocal','not evaluated'],[2,1,0,0,0], inplace=True)\n",
    "X_train[\"Lymph Node\"].replace(['present','absent'],[2,1], inplace=True)\n",
    "X_train[\"Metastasis\"].replace(['present','absent'],[2,1], inplace=True)\n",
    "X_train[\"Histological Type\"].replace(['infiltrating carcinoma nos','infiltrating lobular carcinoma','infiltrating ductal carcinoma',\n",
    "                                      'medullary carcinoma','metaplastic carcinoma','mixed histology','mucinous carcinoma',\n",
    "                                      'other','not available'],[1,2,3,4,5,6,7,8,0], inplace=True)\n",
    "X_train[\"Subtype\"].replace(['Basal','Her2','LumA','LumB','Normal'],[1,2,3,4,5], inplace=True)\n",
    "X_train[\"Tumour_info\"].replace(TSS,np.arange(1,len(TSS)+1), inplace=True)\n",
    "\n",
    "\n",
    "#Missing values\n",
    "X_train[\"Tumour Stage\"].fillna(\"0\",inplace=True)             #As string\n",
    "X_train[\"Menopausal Status\"].fillna(0,inplace=True)\n",
    "X_train[\"ER\"].fillna(0,inplace=True)\n",
    "X_train[\"PR\"].fillna(0,inplace=True)\n",
    "X_train[\"HER2\"].fillna(0,inplace=True)\n",
    "X_train[\"Lymph Node\"].fillna(0,inplace=True)\n",
    "X_train[\"Metastasis\"].fillna(0,inplace=True)\n",
    "X_train[\"Histological Type\"].fillna(0,inplace=True)\n",
    "X_train[\"Subtype\"].fillna(0,inplace=True)\n",
    "\n",
    "\n",
    "#Data information\n",
    "X_train.info()"
   ]
  },
  {
   "cell_type": "markdown",
   "id": "3b1b73f9-fac6-4273-a9fa-4ecd494a5395",
   "metadata": {},
   "source": [
    ".\n",
    "\n",
    "Some missing values are present in the column \"Age\""
   ]
  },
  {
   "cell_type": "code",
   "execution_count": 11,
   "id": "5a190fb7-a855-46e1-aba6-3744eaadf554",
   "metadata": {},
   "outputs": [
    {
     "data": {
      "text/plain": [
       "<AxesSubplot:xlabel='Age', ylabel='Count'>"
      ]
     },
     "execution_count": 11,
     "metadata": {},
     "output_type": "execute_result"
    },
    {
     "data": {
      "image/png": "[encoded data removed]",
      "text/plain": [
       "<Figure size 432x288 with 1 Axes>"
      ]
     },
     "metadata": {
      "needs_background": "light"
     },
     "output_type": "display_data"
    }
   ],
   "source": [
    "#Histogram of the feature \"Age\"\n",
    "sn.histplot(x=X_train.Age, kde=True)"
   ]
  },
  {
   "cell_type": "code",
   "execution_count": 12,
   "id": "aea4377e-07a5-4ea2-8927-f83f1b09d719",
   "metadata": {},
   "outputs": [
    {
     "name": "stdout",
     "output_type": "stream",
     "text": [
      "The mean is:  58.324742268041234 \n",
      "The median is:  58.0\n"
     ]
    }
   ],
   "source": [
    "#Mean and Median age\n",
    "print(\"The mean is: \", X_train.Age.mean(), \"\\nThe median is: \",X_train.Age.median())"
   ]
  },
  {
   "cell_type": "code",
   "execution_count": 13,
   "id": "e23f525f-ac79-44c0-b47b-1bbf4d0ef669",
   "metadata": {},
   "outputs": [
    {
     "name": "stdout",
     "output_type": "stream",
     "text": [
      "Number of missing values:  0\n"
     ]
    }
   ],
   "source": [
    "#Use the median to replace missing \"Age\" values\n",
    "X_train_MEDIAN = X_train.Age.median()                #It will be used later\n",
    "X_train.Age.fillna(X_train_MEDIAN,inplace=True)\n",
    "\n",
    "#Missing values\n",
    "print(\"Number of missing values: \", X_train.isna().sum().sum())"
   ]
  },
  {
   "cell_type": "markdown",
   "id": "d12ac0cc-04da-4ec9-8eb1-6b27a7798af8",
   "metadata": {},
   "source": [
    ".\n",
    "\n",
    "No missing values anymore\n",
    "\n",
    "Let's deal with \"Tumour Stage\" feature. The unique values are:\n",
    "- '3a' '3c' '2a' '1' '2b' '1a' '2' '4' '1b' '3b' 'X' '3'\n",
    "\n",
    "The following substitutions will be applied:\n",
    "- Set X = 0 (the X is present when the primary tumor cannot be assessed) \n",
    "- Set all the others as 1,2,3\n",
    "- If a letter is present, it will be replaced with a number (i.e., a=1, b=2, c=3). If absent, 0."
   ]
  },
  {
   "cell_type": "code",
   "execution_count": 14,
   "id": "dd387eb1-7313-402c-923b-c495d86e8fd2",
   "metadata": {},
   "outputs": [
    {
     "name": "stdout",
     "output_type": "stream",
     "text": [
      "<class 'pandas.core.frame.DataFrame'>\n",
      "Int64Index: 1168 entries, 141 to 684\n",
      "Data columns (total 15 columns):\n",
      " #   Column             Non-Null Count  Dtype  \n",
      "---  ------             --------------  -----  \n",
      " 0   T_Stage1           1168 non-null   int64  \n",
      " 1   T_Stage2           1168 non-null   int64  \n",
      " 2   Definition         1168 non-null   int64  \n",
      " 3   Gender             1168 non-null   int64  \n",
      " 4   Menopausal Status  1168 non-null   float64\n",
      " 5   Race               1168 non-null   int64  \n",
      " 6   Age                1168 non-null   float64\n",
      " 7   ER                 1168 non-null   float64\n",
      " 8   PR                 1168 non-null   float64\n",
      " 9   HER2               1168 non-null   float64\n",
      " 10  Lymph Node         1168 non-null   float64\n",
      " 11  Metastasis         1168 non-null   float64\n",
      " 12  Histological Type  1168 non-null   float64\n",
      " 13  Subtype            1168 non-null   float64\n",
      " 14  Tumour_info        1168 non-null   int64  \n",
      "dtypes: float64(9), int64(6)\n",
      "memory usage: 146.0 KB\n"
     ]
    }
   ],
   "source": [
    "#Split the \"Tumour Stage\" column (i.e. number + letter)\n",
    "Num = X_train[\"Tumour Stage\"].str.split(\"\",expand=True)[1]\n",
    "Sta = X_train[\"Tumour Stage\"].str.split(\"\",expand=True)[2]\n",
    "Stage = pd.DataFrame(pd.concat([Num,Sta],axis=1))\n",
    "Stage.columns=[\"T_Stage1\",\"T_Stage2\"]\n",
    "\n",
    "\n",
    "#Replace letters with numbers (0 if absent)\n",
    "i=0\n",
    "while i<len(Stage) :\n",
    "    if Stage.iloc[i,0] == \"X\":\n",
    "        Stage.iloc[i,0] = 0\n",
    "    if Stage.iloc[i,1] == \"a\" :\n",
    "        Stage.iloc[i,1] = 1\n",
    "    if Stage.iloc[i,1] == \"b\" :\n",
    "        Stage.iloc[i,1] = 2\n",
    "    if Stage.iloc[i,1] == \"c\" :\n",
    "        Stage.iloc[i,1] = 3\n",
    "    if Stage.iloc[i,1]==\"\" :\n",
    "        Stage.iloc[i,1] = 0\n",
    "    i=i+1\n",
    "    \n",
    "    \n",
    "#Insert new columns (\"T_Stage1\",\"T_Stage2\") in the original datasets and remove \"Tumour Stage\"\n",
    "X_train = pd.concat([Stage,X_train],axis=1)\n",
    "X_train.drop([\"Tumour Stage\"],axis=1,inplace=True)\n",
    "X_train\n",
    "\n",
    "\n",
    "#Convert \"T_Stage1\" and \"T_Stage2\" into a numeric format\n",
    "X_train[\"T_Stage1\"] = pd.to_numeric(X_train[\"T_Stage1\"])\n",
    "X_train[\"T_Stage2\"] = pd.to_numeric(X_train[\"T_Stage2\"])\n",
    "\n",
    "\n",
    "#Data information\n",
    "X_train.info()"
   ]
  },
  {
   "cell_type": "markdown",
   "id": "ea451c3e-60d2-4a6f-a09a-f867586148f6",
   "metadata": {},
   "source": [
    ".\n",
    "\n",
    "Now the dataset is complete (no missing values) and it has only numeric values (1168 entries in 15 columns)"
   ]
  },
  {
   "cell_type": "code",
   "execution_count": 15,
   "id": "05ef6ef4-6637-4d0f-9068-34af8a22b47a",
   "metadata": {},
   "outputs": [
    {
     "data": {
      "image/png": "[encoded data removed]",
      "text/plain": [
       "<Figure size 1080x720 with 14 Axes>"
      ]
     },
     "metadata": {
      "needs_background": "light"
     },
     "output_type": "display_data"
    }
   ],
   "source": [
    "#Data distribution for categorical features\n",
    "plt.figure(figsize=(15,10))\n",
    "j=1\n",
    "for i in [\"T_Stage1\",\"T_Stage2\",\"Definition\",\"Gender\",\"Menopausal Status\",\"Race\",\"ER\",\"PR\",\n",
    "          \"HER2\",\"Lymph Node\",\"Metastasis\",\"Histological Type\",\"Subtype\",\"Tumour_info\"] :\n",
    "    plt.subplot(4,4,j)\n",
    "    sn.histplot(x = X_train[i])\n",
    "    plt.title(i)\n",
    "    j=j+1\n",
    "\n",
    "plt.tight_layout()"
   ]
  },
  {
   "cell_type": "markdown",
   "id": "0ea6a5d3-84cb-4f7f-ae61-e8af07c1d961",
   "metadata": {},
   "source": [
    ".\n",
    "\n",
    "Some features are unbalanced like \"Gender\""
   ]
  },
  {
   "cell_type": "code",
   "execution_count": 16,
   "id": "ccfbb0b2-e5b0-4e6c-a569-7c3a8f39aafd",
   "metadata": {},
   "outputs": [
    {
     "data": {
      "text/plain": [
       "1    1155\n",
       "2      13\n",
       "Name: Gender, dtype: int64"
      ]
     },
     "execution_count": 16,
     "metadata": {},
     "output_type": "execute_result"
    }
   ],
   "source": [
    "#Value count for \"Gender\":\n",
    "X_train.Gender.value_counts()"
   ]
  },
  {
   "cell_type": "markdown",
   "id": "090acf3b-7a8d-42f9-9a54-978a37a4de4d",
   "metadata": {},
   "source": [
    ".\n",
    "\n",
    "There are only 13 males that may be trated as generic patient along with females: in this way, the column \"Gender\" can be removed.\n",
    "\n",
    "To check if that removal can be applied, let's take a look at the values throughout the dataset for males and females"
   ]
  },
  {
   "cell_type": "code",
   "execution_count": 17,
   "id": "df15bbff-cf27-46b7-a3e3-635e4dea8d7d",
   "metadata": {},
   "outputs": [
    {
     "data": {
      "image/png": "[encoded data removed]",
      "text/plain": [
       "<Figure size 1080x720 with 10 Axes>"
      ]
     },
     "metadata": {
      "needs_background": "light"
     },
     "output_type": "display_data"
    }
   ],
   "source": [
    "#Male vs. females\n",
    "plt.figure(figsize=(15,10))\n",
    "j=1\n",
    "for i in [\"T_Stage1\",\"T_Stage2\",\"Race\",\"ER\",\"PR\",\"HER2\",\n",
    "          \"Lymph Node\",\"Metastasis\",\"Histological Type\",\"Subtype\"] :\n",
    "    plt.subplot(3,4,j)\n",
    "    sn.boxplot(data = X_train, x = i, y = \"Age\", hue = \"Gender\")\n",
    "    plt.title(i)\n",
    "    j=j+1\n",
    "    \n",
    "plt.tight_layout()"
   ]
  },
  {
   "cell_type": "markdown",
   "id": "1edce711-e0dc-4721-beb0-aebb9f9eca93",
   "metadata": {},
   "source": [
    ".\n",
    "\n",
    "There are no particular patterns or values for male patients with respect to females."
   ]
  },
  {
   "cell_type": "code",
   "execution_count": 18,
   "id": "09a3e2c8-1883-4ce7-93bf-fbdee4e9fa3e",
   "metadata": {},
   "outputs": [
    {
     "data": {
      "text/plain": [
       "<AxesSubplot:xlabel='Age', ylabel='Count'>"
      ]
     },
     "execution_count": 18,
     "metadata": {},
     "output_type": "execute_result"
    },
    {
     "data": {
      "image/png": "[encoded data removed]",
      "text/plain": [
       "<Figure size 432x288 with 1 Axes>"
      ]
     },
     "metadata": {
      "needs_background": "light"
     },
     "output_type": "display_data"
    }
   ],
   "source": [
    "#Data distributions for \"Age\"\n",
    "sn.histplot(x = X_train.Age, bins=20, kde=True)"
   ]
  },
  {
   "cell_type": "markdown",
   "id": "a34a2ef0-4ed2-4298-aebe-d3b2a3be1c7c",
   "metadata": {},
   "source": [
    ".\n",
    "\n",
    "The distribution might contain some outliers (at both tails). Let's check that using the *z-score*."
   ]
  },
  {
   "cell_type": "code",
   "execution_count": 19,
   "id": "45e51b67-258e-4a4a-be94-b44ce171baad",
   "metadata": {},
   "outputs": [
    {
     "name": "stdout",
     "output_type": "stream",
     "text": [
      "The number of outliers in 'Age' is: 0\n"
     ]
    }
   ],
   "source": [
    "#Outliers with z-score larger than 3\n",
    "print(\"The number of outliers in 'Age' is: {}\".format(sum(abs((X_train.Age-X_train.Age.mean())/(X_train.Age.std()))>=3)))"
   ]
  },
  {
   "cell_type": "markdown",
   "id": "d3dec2f0-9264-4d98-ac19-cbfbbec9be48",
   "metadata": {},
   "source": [
    ".\n",
    "\n",
    "No outliers. Let's take a look at the target variable *Survival Status*."
   ]
  },
  {
   "cell_type": "code",
   "execution_count": 20,
   "id": "9648b453-f7af-4880-a630-03d3327dd405",
   "metadata": {},
   "outputs": [
    {
     "data": {
      "text/plain": [
       "alive       84.160959\n",
       "deceased    15.839041\n",
       "Name: Survival Status, dtype: float64"
      ]
     },
     "execution_count": 20,
     "metadata": {},
     "output_type": "execute_result"
    }
   ],
   "source": [
    "#Target variable\n",
    "100*y_train.value_counts()/len(y_train)"
   ]
  },
  {
   "cell_type": "markdown",
   "id": "18aed90e-445a-4bc5-80c6-9e4dca19b1de",
   "metadata": {},
   "source": [
    ".\n",
    "\n",
    "It is unbalanced and that must be kept into account later. \n",
    "\n",
    "In the training session, a weighted classification will be performed: each model will be set to give more importance to the less frequent class."
   ]
  },
  {
   "cell_type": "code",
   "execution_count": 21,
   "id": "4014fa40-e367-4cc4-ab48-92871e565fe2",
   "metadata": {},
   "outputs": [],
   "source": [
    "#Cnvert strings to numbers for the target variable\n",
    "y_train.replace([\"alive\",\"deceased\"],[1,0],inplace=True)"
   ]
  },
  {
   "cell_type": "markdown",
   "id": "5d3ed2f2-8db5-43af-9deb-280cd11a838f",
   "metadata": {},
   "source": [
    ".\n",
    "\n",
    "Now, it is possible to scale all the numeric features using the MinMaxScaler function."
   ]
  },
  {
   "cell_type": "code",
   "execution_count": 22,
   "id": "43cece8b-35b1-453d-91ae-cf7dec54ac0d",
   "metadata": {},
   "outputs": [],
   "source": [
    "#Scaling features\n",
    "Set_scaler = MinMaxScaler()            #It will be used later\n",
    "Set_scaler.fit(X_train) \n",
    "X_train = pd.DataFrame(Set_scaler.transform(X_train),columns=X_train.columns)"
   ]
  },
  {
   "cell_type": "markdown",
   "id": "945e4c27-7cca-4e97-bb14-c0d720fc3ec3",
   "metadata": {},
   "source": [
    ".\n",
    "\n",
    "Are there any non-significant features that can be dropped from the dataset?\n",
    "\n",
    "Let's use the function *f_classif* to compute the p-value for each feature related to its \"strength\" to predict the target variable"
   ]
  },
  {
   "cell_type": "code",
   "execution_count": 23,
   "id": "9363cfb1-eb7e-4591-9a51-1d58e43512ff",
   "metadata": {},
   "outputs": [
    {
     "data": {
      "text/html": [
       "<div>\n",
       "<style scoped>\n",
       "    .dataframe tbody tr th:only-of-type {\n",
       "        vertical-align: middle;\n",
       "    }\n",
       "\n",
       "    .dataframe tbody tr th {\n",
       "        vertical-align: top;\n",
       "    }\n",
       "\n",
       "    .dataframe thead th {\n",
       "        text-align: right;\n",
       "    }\n",
       "</style>\n",
       "<table border=\"1\" class=\"dataframe\">\n",
       "  <thead>\n",
       "    <tr style=\"text-align: right;\">\n",
       "      <th></th>\n",
       "      <th>P-value</th>\n",
       "    </tr>\n",
       "  </thead>\n",
       "  <tbody>\n",
       "    <tr>\n",
       "      <th>Gender</th>\n",
       "      <td>0.418930</td>\n",
       "    </tr>\n",
       "    <tr>\n",
       "      <th>Race</th>\n",
       "      <td>0.468885</td>\n",
       "    </tr>\n",
       "    <tr>\n",
       "      <th>Lymph Node</th>\n",
       "      <td>0.351957</td>\n",
       "    </tr>\n",
       "    <tr>\n",
       "      <th>Metastasis</th>\n",
       "      <td>0.132738</td>\n",
       "    </tr>\n",
       "    <tr>\n",
       "      <th>Histological Type</th>\n",
       "      <td>0.054011</td>\n",
       "    </tr>\n",
       "  </tbody>\n",
       "</table>\n",
       "</div>"
      ],
      "text/plain": [
       "                    P-value\n",
       "Gender             0.418930\n",
       "Race               0.468885\n",
       "Lymph Node         0.351957\n",
       "Metastasis         0.132738\n",
       "Histological Type  0.054011"
      ]
     },
     "execution_count": 23,
     "metadata": {},
     "output_type": "execute_result"
    }
   ],
   "source": [
    "#P-value\n",
    "Pval = pd.DataFrame(f_classif(X_train,y_train)[1],index=X_train.columns, columns=[\"P-value\"])\n",
    "\n",
    "#Features with p-value larger than 0.05\n",
    "Pval.iloc[np.where(Pval>0.05)[0]]"
   ]
  },
  {
   "cell_type": "markdown",
   "id": "3ecc5850-2058-4b98-bd13-c54048dad69b",
   "metadata": {},
   "source": [
    ".\n",
    "\n",
    "Those features seem not to be important for predicting the target variables therefore, they can be dropped from the dataset."
   ]
  },
  {
   "cell_type": "code",
   "execution_count": 24,
   "id": "7cadbab7-6676-4a57-a842-c4cc9122449c",
   "metadata": {},
   "outputs": [],
   "source": [
    "#Drop non-significant features\n",
    "Pval_005 = Pval.iloc[np.where(Pval>0.05)[0]].index\n",
    "X_train.drop(Pval_005,axis=1,inplace=True)"
   ]
  },
  {
   "cell_type": "markdown",
   "id": "8e07c1a4-2e58-4477-9a18-92a6a9cec271",
   "metadata": {},
   "source": [
    ".\n",
    "\n",
    ".\n",
    "\n",
    "## **3. Data transformation function**\n",
    "\n",
    "All the procedures and transformations above will be used on the Test set before applying the final model.\n",
    "\n",
    "They will be included in the following function:"
   ]
  },
  {
   "cell_type": "code",
   "execution_count": 25,
   "id": "ebfcdd8a-6424-4f6b-8336-5ea657f71632",
   "metadata": {},
   "outputs": [],
   "source": [
    "def Data_transformation(X,y) :\n",
    "    #(1) Find the TSS code\n",
    "    X[\"Tumour_info\"] = X[\"Patient ID\"].str.split(\"-\",expand=True).iloc[:,1]\n",
    "    X.drop([\"Patient ID\"],axis=1, inplace=True)\n",
    "    \n",
    "    #(2) Categorical data\n",
    "    X[\"Definition\"].replace(['primary solid tumor','solid tissue normal'],[1,2], inplace=True) \n",
    "    X[\"Gender\"].replace(['female','male'],[1,2], inplace=True)\n",
    "    X[\"Menopausal Status\"].replace(['postmenopausal','perimenopausal','premenopausal','not available',\n",
    "                                      'unknown','not evaluated','indeterminate'],[3,2,1,0,0,0,0], inplace=True)\n",
    "    X[\"Race\"].replace(['white','american indian or alaska native','black or african american','asian',\n",
    "                       'not reported'],[1,2,3,4,0], inplace=True)\n",
    "    X[\"ER\"].replace(['positive','negative','indeterminate','equivocal','not evaluated'],[2,1,0,0,0], inplace=True)\n",
    "    X[\"PR\"].replace(['positive','negative','indeterminate','equivocal','not evaluated'],[2,1,0,0,0], inplace=True)\n",
    "    X[\"HER2\"].replace(['positive','negative','indeterminate','equivocal','not evaluated'],[2,1,0,0,0], inplace=True)\n",
    "    X[\"Lymph Node\"].replace(['present','absent'],[2,1], inplace=True)\n",
    "    X[\"Metastasis\"].replace(['present','absent'],[2,1], inplace=True)\n",
    "    X[\"Histological Type\"].replace(['infiltrating carcinoma nos','infiltrating lobular carcinoma','infiltrating ductal carcinoma',\n",
    "                                      'medullary carcinoma','metaplastic carcinoma','mixed histology','mucinous carcinoma',\n",
    "                                      'other','not available'],[1,2,3,4,5,6,7,8,0], inplace=True)\n",
    "    X[\"Subtype\"].replace(['Basal','Her2','LumA','LumB','Normal'],[1,2,3,4,5], inplace=True)\n",
    "    X[\"Tumour_info\"].replace(TSS,np.arange(1,len(TSS)+1), inplace=True)\n",
    "\n",
    "    #Missing values\n",
    "    X[\"Tumour Stage\"].fillna(\"0\",inplace=True)         \n",
    "    X[\"Menopausal Status\"].fillna(0,inplace=True)\n",
    "    X[\"ER\"].fillna(0,inplace=True)\n",
    "    X[\"PR\"].fillna(0,inplace=True)\n",
    "    X[\"HER2\"].fillna(0,inplace=True)\n",
    "    X[\"Lymph Node\"].fillna(0,inplace=True)\n",
    "    X[\"Metastasis\"].fillna(0,inplace=True)\n",
    "    X[\"Histological Type\"].fillna(0,inplace=True)\n",
    "    X[\"Subtype\"].fillna(0,inplace=True)\n",
    "\n",
    "    #(3) Missing Age values\n",
    "    X.Age.fillna(X_train_MEDIAN,inplace=True)\n",
    "\n",
    "    #(4) Tumour Stage\n",
    "    Num = X[\"Tumour Stage\"].str.split(\"\",expand=True)[1]\n",
    "    Sta = X[\"Tumour Stage\"].str.split(\"\",expand=True)[2]\n",
    "    Stage = pd.DataFrame(pd.concat([Num,Sta],axis=1))\n",
    "    Stage.columns=[\"T_Stage1\",\"T_Stage2\"]\n",
    "    i=0\n",
    "    while i<len(Stage) :\n",
    "        if Stage.iloc[i,0] == \"X\":\n",
    "            Stage.iloc[i,0] = 0\n",
    "        if Stage.iloc[i,1] == \"a\" :\n",
    "            Stage.iloc[i,1] = 1\n",
    "        if Stage.iloc[i,1] == \"b\" :\n",
    "            Stage.iloc[i,1] = 2\n",
    "        if Stage.iloc[i,1] == \"c\" :\n",
    "            Stage.iloc[i,1] = 3\n",
    "        if Stage.iloc[i,1]==\"\" :\n",
    "            Stage.iloc[i,1] = 0\n",
    "        i=i+1\n",
    "    X = pd.concat([Stage,X],axis=1)\n",
    "    X.drop([\"Tumour Stage\"],axis=1,inplace=True)\n",
    "    X[\"T_Stage1\"] = pd.to_numeric(X[\"T_Stage1\"])\n",
    "    X[\"T_Stage2\"] = pd.to_numeric(X[\"T_Stage2\"])\n",
    "    \n",
    "    #(5) Scaling features\n",
    "    X = pd.DataFrame(Set_scaler.transform(X),columns=X.columns)\n",
    "    \n",
    "    #(6) Drop non-significant features\n",
    "    X.drop(Pval_005,axis=1,inplace=True)\n",
    "    \n",
    "    #(7) Target variable\n",
    "    y.replace([\"alive\",\"deceased\"],[1,0],inplace=True)\n",
    "    y = pd.Series(np.array(y))\n",
    "    \n",
    "    return X, y"
   ]
  },
  {
   "cell_type": "markdown",
   "id": "9227ef49-3a2e-4abc-88f2-34c842393fde",
   "metadata": {},
   "source": [
    ".\n",
    "\n",
    ".\n",
    "\n",
    "\n",
    "## **4. Training: first models**\n",
    "\n",
    "First, let's create a Training and a Test set: the first will be used for training the models while the second on to assess its goodness."
   ]
  },
  {
   "cell_type": "code",
   "execution_count": 26,
   "id": "6ff425be-5342-4846-9cce-fc192942b0c3",
   "metadata": {},
   "outputs": [],
   "source": [
    "#Creation of a Training set and a Test set\n",
    "X_train_t, X_test_t, y_train_t, y_test_t = train_test_split(X_train, y_train, \n",
    "                                                            test_size = 0.2, \n",
    "                                                            random_state = 0, shuffle=True)"
   ]
  },
  {
   "cell_type": "markdown",
   "id": "d64251a8-77ce-47ad-ae9a-c31d6181a743",
   "metadata": {},
   "source": [
    ".\n",
    "\n",
    "Several models will be applied on the Training set to predict the variable \"Survival Status\".\n",
    "\n",
    "A stratified k-fold cross-valiation method will be used to evaluate each model score (preserving the target class proportion).\n",
    "\n",
    "The training and validation set will be splitted as 80-20% of the original dataset, respectively."
   ]
  },
  {
   "cell_type": "code",
   "execution_count": 27,
   "id": "d4138dd9-5967-4b04-9d57-6bdb4f96c785",
   "metadata": {},
   "outputs": [
    {
     "name": "stdout",
     "output_type": "stream",
     "text": [
      "90.0 %"
     ]
    },
    {
     "data": {
      "text/html": [
       "<div>\n",
       "<style scoped>\n",
       "    .dataframe tbody tr th:only-of-type {\n",
       "        vertical-align: middle;\n",
       "    }\n",
       "\n",
       "    .dataframe tbody tr th {\n",
       "        vertical-align: top;\n",
       "    }\n",
       "\n",
       "    .dataframe thead th {\n",
       "        text-align: right;\n",
       "    }\n",
       "</style>\n",
       "<table border=\"1\" class=\"dataframe\">\n",
       "  <thead>\n",
       "    <tr style=\"text-align: right;\">\n",
       "      <th></th>\n",
       "      <th>Mean_accuracy</th>\n",
       "      <th>Mean_Precision</th>\n",
       "      <th>Mean_Recall</th>\n",
       "      <th>Mean_F1_score</th>\n",
       "      <th>Mean_AUC_score</th>\n",
       "    </tr>\n",
       "  </thead>\n",
       "  <tbody>\n",
       "    <tr>\n",
       "      <th>RandomForest</th>\n",
       "      <td>0.861883</td>\n",
       "      <td>0.881232</td>\n",
       "      <td>0.968514</td>\n",
       "      <td>0.922615</td>\n",
       "      <td>0.790064</td>\n",
       "    </tr>\n",
       "    <tr>\n",
       "      <th>XGBoost</th>\n",
       "      <td>0.837243</td>\n",
       "      <td>0.910111</td>\n",
       "      <td>0.897882</td>\n",
       "      <td>0.903479</td>\n",
       "      <td>0.786248</td>\n",
       "    </tr>\n",
       "    <tr>\n",
       "      <th>DecisionTree</th>\n",
       "      <td>0.826531</td>\n",
       "      <td>0.889046</td>\n",
       "      <td>0.909187</td>\n",
       "      <td>0.898985</td>\n",
       "      <td>0.635554</td>\n",
       "    </tr>\n",
       "    <tr>\n",
       "      <th>SVM</th>\n",
       "      <td>0.743022</td>\n",
       "      <td>0.919664</td>\n",
       "      <td>0.765425</td>\n",
       "      <td>0.834595</td>\n",
       "      <td>0.768115</td>\n",
       "    </tr>\n",
       "    <tr>\n",
       "      <th>Logistic</th>\n",
       "      <td>0.693767</td>\n",
       "      <td>0.909340</td>\n",
       "      <td>0.711209</td>\n",
       "      <td>0.797464</td>\n",
       "      <td>0.703026</td>\n",
       "    </tr>\n",
       "  </tbody>\n",
       "</table>\n",
       "</div>"
      ],
      "text/plain": [
       "              Mean_accuracy  Mean_Precision  Mean_Recall  Mean_F1_score  \\\n",
       "RandomForest       0.861883        0.881232     0.968514       0.922615   \n",
       "XGBoost            0.837243        0.910111     0.897882       0.903479   \n",
       "DecisionTree       0.826531        0.889046     0.909187       0.898985   \n",
       "SVM                0.743022        0.919664     0.765425       0.834595   \n",
       "Logistic           0.693767        0.909340     0.711209       0.797464   \n",
       "\n",
       "              Mean_AUC_score  \n",
       "RandomForest        0.790064  \n",
       "XGBoost             0.786248  \n",
       "DecisionTree        0.635554  \n",
       "SVM                 0.768115  \n",
       "Logistic            0.703026  "
      ]
     },
     "execution_count": 27,
     "metadata": {},
     "output_type": "execute_result"
    }
   ],
   "source": [
    "#K-fold split\n",
    "CV = StratifiedKFold(n_splits = 5, random_state = 0, shuffle = True)\n",
    "\n",
    "\n",
    "#Iterative training with different models\n",
    "Iterations = 10\n",
    "Model_log2_acc,Model_tree2_acc,Model_ran2_acc,Model_xgb2_acc,Model_svm2_acc = 0,0,0,0,0\n",
    "Model_log2_pre,Model_tree2_pre,Model_ran2_pre,Model_xgb2_pre,Model_svm2_pre = 0,0,0,0,0\n",
    "Model_log2_rec,Model_tree2_rec,Model_ran2_rec,Model_xgb2_rec,Model_svm2_rec = 0,0,0,0,0\n",
    "Model_log2_f1,Model_tree2_f1,Model_ran2_f1,Model_xgb2_f1,Model_svm2_f1 = 0,0,0,0,0\n",
    "Model_log2_auc,Model_tree2_auc,Model_ran2_auc,Model_xgb2_auc,Model_svm2_auc = 0,0,0,0,0\n",
    "for i in range(Iterations) :\n",
    "    print(f'\\r{100*(i)/(Iterations)} %', end='')       #Counter (%)\n",
    "    #Logistic regression\n",
    "    Model_log = LogisticRegression(class_weight = \"balanced\")     #To give more importance to the less frequent class\n",
    "    Model_log2_acc = Model_log2_acc + cross_val_score(Model_log, X_train_t, y_train_t, cv = CV, scoring = \"accuracy\").mean()\n",
    "    Model_log2_pre = Model_log2_pre + cross_val_score(Model_log, X_train_t, y_train_t, cv = CV, scoring = \"precision\").mean()      \n",
    "    Model_log2_rec = Model_log2_rec + cross_val_score(Model_log, X_train_t, y_train_t, cv = CV, scoring = \"recall\").mean()      \n",
    "    Model_log2_f1 = Model_log2_f1 + cross_val_score(Model_log, X_train_t, y_train_t, cv = CV, scoring = \"f1\").mean()\n",
    "    Model_log2_auc = Model_log2_auc + cross_val_score(Model_log, X_train_t, y_train_t, cv = CV, scoring = \"roc_auc\").mean()\n",
    "\n",
    "    #Decision tree\n",
    "    Model_tree = DecisionTreeClassifier(class_weight = \"balanced\", random_state = 0)\n",
    "    Model_tree2_acc = Model_tree2_acc + cross_val_score(Model_tree, X_train_t, y_train_t, cv = CV, scoring = \"accuracy\").mean()\n",
    "    Model_tree2_pre = Model_tree2_pre + cross_val_score(Model_tree, X_train_t, y_train_t, cv = CV, scoring = \"precision\").mean()      \n",
    "    Model_tree2_rec = Model_tree2_rec + cross_val_score(Model_tree, X_train_t, y_train_t, cv = CV, scoring = \"recall\").mean()     \n",
    "    Model_tree2_f1 = Model_tree2_f1 + cross_val_score(Model_tree, X_train_t, y_train_t, cv = CV, scoring = \"f1\").mean()\n",
    "    Model_tree2_auc = Model_tree2_auc + cross_val_score(Model_tree, X_train_t, y_train_t, cv = CV, scoring = \"roc_auc\").mean()\n",
    "    \n",
    "    #Random forest\n",
    "    Model_ran = RandomForestClassifier(class_weight = \"balanced\", random_state = 0)\n",
    "    Model_ran2_acc = Model_ran2_acc + cross_val_score(Model_ran, X_train_t, y_train_t, cv = CV, scoring = \"accuracy\").mean()\n",
    "    Model_ran2_pre = Model_ran2_pre + cross_val_score(Model_ran, X_train_t, y_train_t, cv = CV, scoring = \"precision\").mean()      \n",
    "    Model_ran2_rec = Model_ran2_rec + cross_val_score(Model_ran, X_train_t, y_train_t, cv = CV, scoring = \"recall\").mean()      \n",
    "    Model_ran2_f1 = Model_ran2_f1 + cross_val_score(Model_ran, X_train_t, y_train_t, cv = CV, scoring = \"f1\").mean()\n",
    "    Model_ran2_auc = Model_ran2_auc + cross_val_score(Model_ran, X_train_t, y_train_t, cv = CV, scoring = \"roc_auc\").mean()\n",
    "    \n",
    "    #XGBoost\n",
    "    Model_xgb = xgb.XGBClassifier(eval_metric=\"logloss\", use_label_encoder=False, \n",
    "                                  scale_pos_weight = (y_train_t==0).sum()/(y_train_t==1).sum(), seed=0)    #ratio neg/pos\n",
    "    Model_xgb2_acc = Model_xgb2_acc + cross_val_score(Model_xgb, X_train_t, y_train_t, cv = CV, scoring = \"accuracy\").mean()\n",
    "    Model_xgb2_pre = Model_xgb2_pre + cross_val_score(Model_xgb, X_train_t, y_train_t, cv = CV, scoring = \"precision\").mean()      \n",
    "    Model_xgb2_rec = Model_xgb2_rec + cross_val_score(Model_xgb, X_train_t, y_train_t, cv = CV, scoring = \"recall\").mean()      \n",
    "    Model_xgb2_f1 = Model_xgb2_f1 + cross_val_score(Model_xgb, X_train_t, y_train_t, cv = CV, scoring = \"f1\").mean()\n",
    "    Model_xgb2_auc = Model_xgb2_auc + cross_val_score(Model_xgb, X_train_t, y_train_t, cv = CV, scoring = \"roc_auc\").mean()\n",
    "    \n",
    "    #SVM\n",
    "    Model_svm = svm.SVC(class_weight = \"balanced\")\n",
    "    Model_svm2_acc = Model_svm2_acc + cross_val_score(Model_svm, X_train_t, y_train_t, cv = CV, scoring = \"accuracy\").mean()\n",
    "    Model_svm2_pre = Model_svm2_pre + cross_val_score(Model_svm, X_train_t, y_train_t, cv = CV, scoring = \"precision\").mean()\n",
    "    Model_svm2_rec = Model_svm2_rec + cross_val_score(Model_svm, X_train_t, y_train_t, cv = CV, scoring = \"recall\").mean()     \n",
    "    Model_svm2_f1 = Model_svm2_f1 + cross_val_score(Model_svm, X_train_t, y_train_t, cv = CV, scoring = \"f1\").mean()\n",
    "    Model_svm2_auc = Model_svm2_auc + cross_val_score(Model_svm, X_train_t, y_train_t, cv = CV, scoring = \"roc_auc\").mean()\n",
    "\n",
    "    \n",
    "#Final results\n",
    "Data_res = {\"Mean_accuracy\" : [Model_log2_acc/Iterations,Model_tree2_acc/Iterations,Model_ran2_acc/Iterations,\n",
    "                               Model_xgb2_acc/Iterations,Model_svm2_acc/Iterations],\n",
    "            \"Mean_Precision\" : [Model_log2_pre/Iterations,Model_tree2_pre/Iterations,Model_ran2_pre/Iterations,\n",
    "                               Model_xgb2_pre/Iterations,Model_svm2_pre/Iterations],\n",
    "            \"Mean_Recall\" : [Model_log2_rec/Iterations,Model_tree2_rec/Iterations,Model_ran2_rec/Iterations,\n",
    "                               Model_xgb2_rec/Iterations,Model_svm2_rec/Iterations],\n",
    "            \"Mean_F1_score\" : [Model_log2_f1/Iterations,Model_tree2_f1/Iterations,Model_ran2_f1/Iterations,\n",
    "                               Model_xgb2_f1/Iterations,Model_svm2_f1/Iterations],\n",
    "            \"Mean_AUC_score\" : [Model_log2_auc/Iterations,Model_tree2_auc/Iterations,Model_ran2_auc/Iterations,\n",
    "                               Model_xgb2_auc/Iterations,Model_svm2_auc/Iterations]\n",
    "            }\n",
    "\n",
    "Results = pd.DataFrame(data = Data_res, index = [\"Logistic\", \"DecisionTree\",\"RandomForest\",\"XGBoost\",\"SVM\"])\n",
    "Results.sort_values(by=\"Mean_accuracy\",ascending=False)"
   ]
  },
  {
   "cell_type": "markdown",
   "id": "19a311d6-1bfa-4692-9ba4-48b61955f8cf",
   "metadata": {},
   "source": [
    ".\n",
    "\n",
    ".\n",
    "\n",
    "## **5. Training: hyperparameters tuning**"
   ]
  },
  {
   "cell_type": "markdown",
   "id": "23f04f4d-6333-4bcb-98c7-bb96006df8dd",
   "metadata": {},
   "source": [
    "Random Forest and XGBoost models seem to be the best one.\n",
    "\n",
    "Let's try to tune their hyperparameters. The scoring metric will be the *accuracy*."
   ]
  },
  {
   "cell_type": "code",
   "execution_count": 28,
   "id": "59c46482-216c-4297-9ae7-1a3f8a5f1ece",
   "metadata": {},
   "outputs": [
    {
     "name": "stdout",
     "output_type": "stream",
     "text": [
      "XGBoost model: done!\n",
      "RandomForest model: done!\n",
      "\n",
      "\n",
      "The best XGBoost Regression model is:  {'eval_metric': 'logloss', 'max_depth': 4, 'n_estimators': 200, 'reg_alpha': 0.1, 'reg_lambda': 2, 'scale_pos_weight': 0.17780580075662042, 'seed': 0}\n",
      "The best Random Forest Regression model is:  {'class_weight': 'balanced', 'max_depth': 4, 'min_samples_leaf': 3, 'min_samples_split': 3, 'n_estimators': 200, 'random_state': 0}\n",
      "\n",
      "The best XGBoost Regression Accuracy is:  0.8362198838479673\n",
      "The best Random Forest Regression Accuracy is:  0.8222873900293255\n"
     ]
    }
   ],
   "source": [
    "#Hyperameters grid\n",
    "Params_xgb = {\"n_estimators\":[100,200], \"max_depth\":[2,3,4], \"reg_lambda\":[2,3,5],\"reg_alpha\":[0.1,0.3],\n",
    "              \"eval_metric\":[\"logloss\"], \"scale_pos_weight\":[(y_train_t==0).sum()/(y_train_t==1).sum()], \"seed\": [0]}\n",
    "Params_ran = {\"n_estimators\":[100,200], \"max_depth\":[2,3,4], \"min_samples_split\":[3,5],\"min_samples_leaf\":[3,5,8],\n",
    "              \"class_weight\":[\"balanced\"], \"random_state\": [0]}\n",
    "\n",
    "#Grid search with a 5-fold cross-validation method\n",
    "CV = KFold(n_splits=5, random_state = 0, shuffle=True)\n",
    "Grid_xgb = GridSearchCV(Model_xgb, cv = CV, param_grid = Params_xgb, scoring = \"accuracy\", n_jobs = -1, return_train_score=True)\n",
    "Grid_xgb2 = Grid_xgb.fit(X_train_t, y_train_t)\n",
    "print(\"XGBoost model: done!\")\n",
    "Grid_ran = GridSearchCV(Model_ran, cv = CV, param_grid = Params_ran, scoring = \"accuracy\", n_jobs = -1, return_train_score=True)\n",
    "Grid_ran2 = Grid_ran.fit(X_train_t, y_train_t)\n",
    "print(\"RandomForest model: done!\")\n",
    "\n",
    "print(\"\\n\\nThe best XGBoost Regression model is: \",Grid_xgb2.best_params_)\n",
    "print(\"The best Random Forest Regression model is: \",Grid_ran2.best_params_)\n",
    "print(\"\\nThe best XGBoost Regression Accuracy is: \",Grid_xgb2.best_score_)\n",
    "print(\"The best Random Forest Regression Accuracy is: \",Grid_ran2.best_score_)"
   ]
  },
  {
   "cell_type": "markdown",
   "id": "f1faea7c-57f9-4810-a05f-9ea406f624cf",
   "metadata": {},
   "source": [
    ".\n",
    "\n",
    "The XGBoost models is the best one.\n",
    "\n",
    "Models may have a good accuracy on the validation set but they may be overfitting the data.\n",
    "\n",
    "Let's take a look at the training accuracy vs. validation accuracy plot: \n",
    "\n",
    "when a point is close to the unity line, it mean that the training and validation accuracies are similar.\n",
    "\n",
    "On the contraty, when a point is far from the unity line, it means that the model is overfitting the data (i.e. high training accuracy and low validation accuracy).\n",
    "\n",
    "A shaded blue region is defined as a \"confidence interval against overfitting\": points inside that region are related to models that do not overfit the data."
   ]
  },
  {
   "cell_type": "code",
   "execution_count": 29,
   "id": "9da4749f-f819-4006-9c06-071e9a6f73c0",
   "metadata": {},
   "outputs": [
    {
     "data": {
      "text/plain": [
       "<matplotlib.legend.Legend at 0x7f4214ac1e48>"
      ]
     },
     "execution_count": 29,
     "metadata": {},
     "output_type": "execute_result"
    },
    {
     "data": {
      "image/png": "[encoded data removed]",
      "text/plain": [
       "<Figure size 432x288 with 1 Axes>"
      ]
     },
     "metadata": {
      "needs_background": "light"
     },
     "output_type": "display_data"
    }
   ],
   "source": [
    "#Training vs. Validation accuracy\n",
    "A = pd.concat([pd.Series(Grid_ran2.cv_results_[\"mean_test_score\"]),pd.Series(Grid_ran2.cv_results_[\"mean_train_score\"])],axis=1)\n",
    "B = pd.concat([pd.Series(Grid_xgb2.cv_results_[\"mean_test_score\"]),pd.Series(Grid_xgb2.cv_results_[\"mean_train_score\"])],axis=1)\n",
    "A.columns=[\"Test\",\"Train\"]\n",
    "B.columns=[\"Test\",\"Train\"]\n",
    "A.sort_values(\"Test\")\n",
    "B.sort_values(\"Test\")\n",
    "plt.plot(A.Test,A.Train,'ob')\n",
    "plt.plot(B.Test,B.Train,'or')\n",
    "plt.plot([0.77,0.85],[0.77,0.85],'--b')\n",
    "plt.fill_between([0.77,0.85],[0.82,0.90],[0.72,0.80],color='blue',alpha=0.1, label=\"_nolegend_\")\n",
    "plt.plot(B.Test[np.argmax(B.Test)],B.Train[np.argmax(B.Test)],'ro',markersize=13,mec=\"black\")\n",
    "plt.ylim([0.73,0.98])\n",
    "plt.xlabel(\"Accuracy test set\")\n",
    "plt.ylabel(\"Accuracy training set\")\n",
    "plt.legend([\"RandomForest\",\"XGBoost\",\"Unity line\",\"Largest Accuracy (XGBoost)\"], loc=\"upper left\")"
   ]
  },
  {
   "cell_type": "markdown",
   "id": "50f5c888-c8d3-433e-a6dd-b525a981a317",
   "metadata": {},
   "source": [
    ".\n",
    "\n",
    "Almost all XGBoost models are overfitting the data while the Random Forest models do not (even though the accuracy is slightly lower).\n",
    "\n",
    "Let's tune the Random Forest hyperparemeters further."
   ]
  },
  {
   "cell_type": "code",
   "execution_count": 30,
   "id": "23f705f0-ec9d-4fc6-8f77-26676ea38b57",
   "metadata": {},
   "outputs": [
    {
     "name": "stdout",
     "output_type": "stream",
     "text": [
      "\n",
      "The best RandomForest Regression Accuracy is:  {'class_weight': 'balanced', 'max_depth': 5, 'max_features': 'sqrt', 'min_samples_leaf': 2, 'min_samples_split': 2, 'n_estimators': 300, 'random_state': 0}\n",
      "The best Random Forest Regression Accuracy is:  0.8469093209131161\n"
     ]
    }
   ],
   "source": [
    "#Hyperparameter grid\n",
    "Params_ran = {\"n_estimators\":[300], \"max_depth\":[3,4,5], \"min_samples_split\":[2,3,4],\"min_samples_leaf\":[2,3,4],\n",
    "              \"class_weight\":[\"balanced\"], \"max_features\":[\"sqrt\", \"log2\"], \"random_state\":[0]}\n",
    "\n",
    "#Grid search with a 5-fold cross-validation method\n",
    "CV = KFold(n_splits=5, random_state = 0, shuffle=True)\n",
    "Grid_ran22 = GridSearchCV(Model_ran, cv = CV, param_grid = Params_ran, scoring = \"accuracy\", n_jobs = -1, return_train_score=True)\n",
    "Grid_ran222 = Grid_ran22.fit(X_train_t, y_train_t)\n",
    "\n",
    "print(\"\\nThe best RandomForest Regression Accuracy is: \",Grid_ran222.best_params_)\n",
    "print(\"The best Random Forest Regression Accuracy is: \",Grid_ran222.best_score_)"
   ]
  },
  {
   "cell_type": "markdown",
   "id": "a1496892-fe36-4cf9-9ec7-4b7263e21e36",
   "metadata": {},
   "source": [
    ".\n",
    "\n",
    "The accuracy is larger (even larger than the previous XGBoost one).\n",
    "\n",
    "Let's check if the model is overfitting the data."
   ]
  },
  {
   "cell_type": "code",
   "execution_count": 31,
   "id": "e22bb597-c03a-4ca0-b8f4-70c2b15f1441",
   "metadata": {},
   "outputs": [
    {
     "data": {
      "text/plain": [
       "<matplotlib.legend.Legend at 0x7f42145fbac8>"
      ]
     },
     "execution_count": 31,
     "metadata": {},
     "output_type": "execute_result"
    },
    {
     "data": {
      "image/png": "[encoded data removed]",
      "text/plain": [
       "<Figure size 432x288 with 1 Axes>"
      ]
     },
     "metadata": {
      "needs_background": "light"
     },
     "output_type": "display_data"
    }
   ],
   "source": [
    "#Training vs. Validation accuracy\n",
    "A = pd.concat([pd.Series(Grid_ran2.cv_results_[\"mean_test_score\"]),pd.Series(Grid_ran2.cv_results_[\"mean_train_score\"])],axis=1)\n",
    "B = pd.concat([pd.Series(Grid_ran222.cv_results_[\"mean_test_score\"]),pd.Series(Grid_ran222.cv_results_[\"mean_train_score\"])],axis=1)\n",
    "A.columns=[\"Test\",\"Train\"]\n",
    "B.columns=[\"Test\",\"Train\"]\n",
    "A.sort_values(\"Test\")\n",
    "B.sort_values(\"Test\")\n",
    "plt.plot(A.Test,A.Train,'ob')\n",
    "plt.plot(B.Test,B.Train,'or')\n",
    "plt.plot([0.77,0.87],[0.77,0.87],'--b')\n",
    "plt.fill_between([0.77,0.87],[0.82,0.92],[0.72,0.82],color='blue',alpha=0.1,label=\"_nolegend_\")\n",
    "plt.plot(B.Test[np.argmax(B.Test)],B.Train[np.argmax(B.Test)],'ro',markersize=13,mec=\"black\")\n",
    "plt.ylim([0.78,0.95])\n",
    "plt.xlabel(\"Accuracy test set\")\n",
    "plt.ylabel(\"Accuracy training set\")\n",
    "plt.legend([\"RandomForest (old)\",\"Random Forest (new)\",\"Unity line\",\"Largest Accuracy (Random Forest - new)\"], loc=\"upper left\")"
   ]
  },
  {
   "cell_type": "markdown",
   "id": "9a66197a-9008-4217-a554-111b03142b6c",
   "metadata": {},
   "source": [
    ".\n",
    "\n",
    "The new model is still in the shaded regione therefore it is not overfitting data drastically .\n",
    "\n",
    "Let's use it on the Test set."
   ]
  },
  {
   "cell_type": "code",
   "execution_count": 32,
   "id": "f878d1ca-ec91-47cb-b1b7-cb53fcd7ae91",
   "metadata": {},
   "outputs": [
    {
     "name": "stdout",
     "output_type": "stream",
     "text": [
      "The Accuracy on the Training set is:  87.26% (AUC: 0.81)\n",
      "The Accuracy on the Test set is:  83.76% (AUC: 0.81)\n",
      "\n"
     ]
    }
   ],
   "source": [
    "#Accuracy on training and test set\n",
    "Model1 = RandomForestClassifier(**Grid_ran222.best_params_)\n",
    "Model11 = Model1.fit(X_train_t,y_train_t)\n",
    "\n",
    "Final_accuracy_tr = (Model11.predict(X_train_t) == y_train_t).sum()/len(y_train_t)\n",
    "Final_accuracy_te = (Model11.predict(X_test_t) == y_test_t).sum()/len(y_test_t)\n",
    "print(\"The Accuracy on the Training set is:  {:.2f}% (AUC: {:.2f})\".format(100*Final_accuracy_tr, roc_auc_score(y_train_t,Model11.predict(X_train_t))))\n",
    "print(\"The Accuracy on the Test set is:  {:.2f}% (AUC: {:.2f})\\n\".format(100*Final_accuracy_te,roc_auc_score(y_train_t,Model11.predict(X_train_t))))"
   ]
  },
  {
   "cell_type": "markdown",
   "id": "f5b3b307-16ad-465b-ab94-ea4f195dbbfa",
   "metadata": {},
   "source": [
    ".\n",
    "\n",
    "The accuracy on the Training and Test set are similar."
   ]
  },
  {
   "cell_type": "code",
   "execution_count": 33,
   "id": "945ef260-9458-4a3b-ad55-2f3ada8ce9db",
   "metadata": {},
   "outputs": [
    {
     "name": "stdout",
     "output_type": "stream",
     "text": [
      "Precision: 0.90\n",
      "Recall: 0.90\n",
      "F1-score: 0.90\n",
      "\n"
     ]
    },
    {
     "data": {
      "text/html": [
       "<div>\n",
       "<style scoped>\n",
       "    .dataframe tbody tr th:only-of-type {\n",
       "        vertical-align: middle;\n",
       "    }\n",
       "\n",
       "    .dataframe tbody tr th {\n",
       "        vertical-align: top;\n",
       "    }\n",
       "\n",
       "    .dataframe thead th {\n",
       "        text-align: right;\n",
       "    }\n",
       "</style>\n",
       "<table border=\"1\" class=\"dataframe\">\n",
       "  <thead>\n",
       "    <tr style=\"text-align: right;\">\n",
       "      <th></th>\n",
       "      <th>Predicted_Dead</th>\n",
       "      <th>Predicted_Alive</th>\n",
       "    </tr>\n",
       "  </thead>\n",
       "  <tbody>\n",
       "    <tr>\n",
       "      <th>Actual_Dead</th>\n",
       "      <td>25</td>\n",
       "      <td>19</td>\n",
       "    </tr>\n",
       "    <tr>\n",
       "      <th>Actual_Alive</th>\n",
       "      <td>19</td>\n",
       "      <td>171</td>\n",
       "    </tr>\n",
       "  </tbody>\n",
       "</table>\n",
       "</div>"
      ],
      "text/plain": [
       "              Predicted_Dead  Predicted_Alive\n",
       "Actual_Dead               25               19\n",
       "Actual_Alive              19              171"
      ]
     },
     "execution_count": 33,
     "metadata": {},
     "output_type": "execute_result"
    }
   ],
   "source": [
    "#Precision, Recall, F1-score, Confusion matrix\n",
    "Conf_matrix = confusion_matrix(y_test_t, Model1.predict(X_test_t))\n",
    "print(\"Precision: {:.2f}\".format(precision_score(y_test_t, Model1.predict(X_test_t))))\n",
    "print(\"Recall: {:.2f}\".format(recall_score(y_test_t, Model1.predict(X_test_t))))\n",
    "print(\"F1-score: {:.2f}\\n\".format(f1_score(y_test_t, Model1.predict(X_test_t))))\n",
    "pd.DataFrame(data=Conf_matrix, columns=[\"Predicted_Dead\",\"Predicted_Alive\"], index=[\"Actual_Dead\",\"Actual_Alive\"])"
   ]
  },
  {
   "cell_type": "markdown",
   "id": "51f04ef1-de8f-4f99-b174-573c5e2064ca",
   "metadata": {},
   "source": [
    ".\n",
    "\n",
    ".\n",
    "\n",
    "## **6. Model finalization**\n",
    "\n",
    "Now, the model can be *finalized* by using the entire dataset (Training + Test)"
   ]
  },
  {
   "cell_type": "code",
   "execution_count": 34,
   "id": "f8f171f0-24ea-414b-89dc-5cde1d9b89a4",
   "metadata": {},
   "outputs": [
    {
     "name": "stdout",
     "output_type": "stream",
     "text": [
      "The final Accuracy on the whole Training set is:  86.64% (AUC: 0.79)\n",
      "\n"
     ]
    }
   ],
   "source": [
    "#Final training on the whole dataset\n",
    "Model1 = RandomForestClassifier(**Grid_ran222.best_params_)\n",
    "Best_model = Model1.fit(X_train, y_train)\n",
    "\n",
    "#Final accuracy on the whole dataset\n",
    "Final_accuracy = (Best_model.predict(X_train) == y_train).sum()/len(y_train)\n",
    "print(\"The final Accuracy on the whole Training set is:  {:.2f}% (AUC: {:.2f})\\n\".format(100*Final_accuracy,roc_auc_score(y_train,Model11.predict(X_train))))"
   ]
  },
  {
   "cell_type": "markdown",
   "id": "b38c5e92-58ad-4352-960b-f6915a946c13",
   "metadata": {},
   "source": [
    ".\n",
    "\n",
    "The accuracy is slighlty worse than before but still high."
   ]
  },
  {
   "cell_type": "code",
   "execution_count": 35,
   "id": "cf2ee623-222d-49d1-807a-3130ab813c52",
   "metadata": {},
   "outputs": [
    {
     "name": "stdout",
     "output_type": "stream",
     "text": [
      "Precision: 0.94\n",
      "Recall: 0.90\n",
      "F1-score: 0.92\n",
      "\n"
     ]
    },
    {
     "data": {
      "text/html": [
       "<div>\n",
       "<style scoped>\n",
       "    .dataframe tbody tr th:only-of-type {\n",
       "        vertical-align: middle;\n",
       "    }\n",
       "\n",
       "    .dataframe tbody tr th {\n",
       "        vertical-align: top;\n",
       "    }\n",
       "\n",
       "    .dataframe thead th {\n",
       "        text-align: right;\n",
       "    }\n",
       "</style>\n",
       "<table border=\"1\" class=\"dataframe\">\n",
       "  <thead>\n",
       "    <tr style=\"text-align: right;\">\n",
       "      <th></th>\n",
       "      <th>Predicted_Dead</th>\n",
       "      <th>Predicted_Alive</th>\n",
       "    </tr>\n",
       "  </thead>\n",
       "  <tbody>\n",
       "    <tr>\n",
       "      <th>Actual_Dead</th>\n",
       "      <td>132</td>\n",
       "      <td>53</td>\n",
       "    </tr>\n",
       "    <tr>\n",
       "      <th>Actual_Alive</th>\n",
       "      <td>103</td>\n",
       "      <td>880</td>\n",
       "    </tr>\n",
       "  </tbody>\n",
       "</table>\n",
       "</div>"
      ],
      "text/plain": [
       "              Predicted_Dead  Predicted_Alive\n",
       "Actual_Dead              132               53\n",
       "Actual_Alive             103              880"
      ]
     },
     "execution_count": 35,
     "metadata": {},
     "output_type": "execute_result"
    }
   ],
   "source": [
    "#Precision, Recall, F1-score, Confusion matrix\n",
    "Conf_matrix = confusion_matrix(y_train, Best_model.predict(X_train))\n",
    "print(\"Precision: {:.2f}\".format(precision_score(y_train, Best_model.predict(X_train))))\n",
    "print(\"Recall: {:.2f}\".format(recall_score(y_train, Best_model.predict(X_train))))\n",
    "print(\"F1-score: {:.2f}\\n\".format(f1_score(y_train, Best_model.predict(X_train))))\n",
    "pd.DataFrame(data=Conf_matrix, columns=[\"Predicted_Dead\",\"Predicted_Alive\"], index=[\"Actual_Dead\",\"Actual_Alive\"])"
   ]
  },
  {
   "cell_type": "markdown",
   "id": "cc122b13-87a2-4bf4-a312-26ef9f3d94a1",
   "metadata": {
    "tags": []
   },
   "source": [
    ".\n",
    "\n",
    ".\n",
    "\n",
    "\n",
    "## **7. Test on unseen data**\n",
    "\n",
    "Now the final model can be tested on the *unseen data* chosen randomly at the beginning of this notebook.\n",
    "\n",
    "First, data must be transformed before the model application."
   ]
  },
  {
   "cell_type": "code",
   "execution_count": 36,
   "id": "b7e9dab7-83e1-4395-bcdc-4f94d40ea2a4",
   "metadata": {},
   "outputs": [],
   "source": [
    "#Data transformation\n",
    "X_test, y_test = Data_transformation(X_test,y_test)"
   ]
  },
  {
   "cell_type": "code",
   "execution_count": 37,
   "id": "7dc8e5fe-82d6-4583-b6cd-2021df0ba9c9",
   "metadata": {},
   "outputs": [
    {
     "name": "stdout",
     "output_type": "stream",
     "text": [
      "The accuracy on the unseen Test set is:  81.08%\n",
      "\n"
     ]
    },
    {
     "data": {
      "text/html": [
       "<div>\n",
       "<style scoped>\n",
       "    .dataframe tbody tr th:only-of-type {\n",
       "        vertical-align: middle;\n",
       "    }\n",
       "\n",
       "    .dataframe tbody tr th {\n",
       "        vertical-align: top;\n",
       "    }\n",
       "\n",
       "    .dataframe thead th {\n",
       "        text-align: right;\n",
       "    }\n",
       "</style>\n",
       "<table border=\"1\" class=\"dataframe\">\n",
       "  <thead>\n",
       "    <tr style=\"text-align: right;\">\n",
       "      <th></th>\n",
       "      <th>Predicted_Dead</th>\n",
       "      <th>Predicted_Alive</th>\n",
       "    </tr>\n",
       "  </thead>\n",
       "  <tbody>\n",
       "    <tr>\n",
       "      <th>Actual_Dead</th>\n",
       "      <td>9</td>\n",
       "      <td>2</td>\n",
       "    </tr>\n",
       "    <tr>\n",
       "      <th>Actual_Alive</th>\n",
       "      <td>5</td>\n",
       "      <td>21</td>\n",
       "    </tr>\n",
       "  </tbody>\n",
       "</table>\n",
       "</div>"
      ],
      "text/plain": [
       "              Predicted_Dead  Predicted_Alive\n",
       "Actual_Dead                9                2\n",
       "Actual_Alive               5               21"
      ]
     },
     "execution_count": 37,
     "metadata": {},
     "output_type": "execute_result"
    }
   ],
   "source": [
    "#Accuracy on the Test set\n",
    "Final_accuracy_test = (Best_model.predict(X_test) == y_test).sum()/len(y_test)\n",
    "print(\"The accuracy on the unseen Test set is:  {:.2f}%\\n\".format(100*Final_accuracy_test))\n",
    "\n",
    "#Confusion matrix\n",
    "Conf_matrix = confusion_matrix(y_test, Best_model.predict(X_test))\n",
    "pd.DataFrame(data=Conf_matrix, columns=[\"Predicted_Dead\",\"Predicted_Alive\"], index=[\"Actual_Dead\",\"Actual_Alive\"])"
   ]
  }
 ],
 "metadata": {
  "kernelspec": {
   "display_name": "Python 3 (ipykernel)",
   "language": "python",
   "name": "python3"
  },
  "language_info": {
   "codemirror_mode": {
    "name": "ipython",
    "version": 3
   },
   "file_extension": ".py",
   "mimetype": "text/x-python",
   "name": "python",
   "nbconvert_exporter": "python",
   "pygments_lexer": "ipython3",
   "version": "3.7.3"
  }
 },
 "nbformat": 4,
 "nbformat_minor": 5
}
